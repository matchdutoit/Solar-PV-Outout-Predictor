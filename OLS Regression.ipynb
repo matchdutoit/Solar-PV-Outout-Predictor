{
 "cells": [
  {
   "cell_type": "code",
   "execution_count": 16,
   "metadata": {},
   "outputs": [],
   "source": [
    "import pandas as pd\n",
    "import numpy as np\n",
    "from sklearn.metrics import *\n",
    "from sklearn.linear_model import LinearRegression, Lasso, Ridge, ElasticNet\n",
    "from sklearn.ensemble import RandomForestRegressor\n",
    "from sklearn.model_selection import GridSearchCV, train_test_split\n",
    "from sklearn.preprocessing import StandardScaler\n",
    "import matplotlib.pyplot as plt\n",
    "import seaborn as sns\n",
    "import pickle\n",
    "%matplotlib inline"
   ]
  },
  {
   "cell_type": "markdown",
   "metadata": {},
   "source": [
    "### Linear Regression Model using system capacity (dc) as only estimator"
   ]
  },
  {
   "cell_type": "code",
   "execution_count": 29,
   "metadata": {},
   "outputs": [],
   "source": [
    "df0 = pd.read_csv('data/df_kg_v1,csv',)"
   ]
  },
  {
   "cell_type": "code",
   "execution_count": 32,
   "metadata": {},
   "outputs": [],
   "source": [
    "df = df0.copy()"
   ]
  },
  {
   "cell_type": "code",
   "execution_count": 33,
   "metadata": {},
   "outputs": [],
   "source": [
    "df_cap = df.copy()"
   ]
  },
  {
   "cell_type": "code",
   "execution_count": 34,
   "metadata": {},
   "outputs": [],
   "source": [
    "y_cap = df_cap.pop('actualkwh')"
   ]
  },
  {
   "cell_type": "code",
   "execution_count": 35,
   "metadata": {},
   "outputs": [],
   "source": [
    "X_cap = df_cap.pop('capacity_dc_kw')"
   ]
  },
  {
   "cell_type": "code",
   "execution_count": 36,
   "metadata": {},
   "outputs": [],
   "source": [
    "X_cap_train, X_cap_test, y_cap_train, y_cap_test = train_test_split(X_cap, y_cap, train_size=.75, test_size=.25, random_state=42)"
   ]
  },
  {
   "cell_type": "code",
   "execution_count": 44,
   "metadata": {},
   "outputs": [
    {
     "name": "stdout",
     "output_type": "stream",
     "text": [
      "R-squared: 0.9374570485784582\n"
     ]
    }
   ],
   "source": [
    "linreg = LinearRegression()\n",
    "linreg.fit(np.array(X_cap_train).reshape(len(X_cap_train),1), y_cap_train)\n",
    "r2_cap = linreg.score(np.array(X_cap_test).reshape(len(X_cap_test),1), y_cap_test)\n",
    "print('R-squared:',r2)"
   ]
  },
  {
   "cell_type": "markdown",
   "metadata": {},
   "source": []
  },
  {
   "cell_type": "markdown",
   "metadata": {},
   "source": [
    "### Linear Regression Model using all system features + KG type\n",
    "(Tilt & Azimuth centered and normed)"
   ]
  },
  {
   "cell_type": "code",
   "execution_count": 45,
   "metadata": {},
   "outputs": [],
   "source": [
    "df_all = df.copy()"
   ]
  },
  {
   "cell_type": "code",
   "execution_count": 46,
   "metadata": {},
   "outputs": [],
   "source": [
    "y_all = df_all.pop('actualkwh')"
   ]
  },
  {
   "cell_type": "code",
   "execution_count": 47,
   "metadata": {},
   "outputs": [],
   "source": [
    "X_all = df_all"
   ]
  },
  {
   "cell_type": "code",
   "execution_count": 48,
   "metadata": {},
   "outputs": [],
   "source": [
    "X_all_train, X_all_test, y_all_train, y_all_test = train_test_split(X_all, y_all, train_size=.75, test_size=.25, random_state=42)"
   ]
  },
  {
   "cell_type": "code",
   "execution_count": 49,
   "metadata": {},
   "outputs": [
    {
     "name": "stdout",
     "output_type": "stream",
     "text": [
      "R-squared: 0.946860500423269\n"
     ]
    }
   ],
   "source": [
    "linreg = LinearRegression()\n",
    "linreg.fit(X_all_train, y_all_train)\n",
    "r2_all = linreg.score(X_all_test, y_all_test)\n",
    "print('R-squared:',r2_all)"
   ]
  },
  {
   "cell_type": "code",
   "execution_count": null,
   "metadata": {},
   "outputs": [],
   "source": []
  },
  {
   "cell_type": "markdown",
   "metadata": {},
   "source": [
    "### Linear Regression Model using all system features + KG type\n",
    "Tilt & Azimuth just centered + Dropped cell category\n"
   ]
  },
  {
   "cell_type": "code",
   "execution_count": 4,
   "metadata": {},
   "outputs": [],
   "source": [
    "df2 = pd.read_csv('data/df_kg_v2.csv')"
   ]
  },
  {
   "cell_type": "code",
   "execution_count": 5,
   "metadata": {},
   "outputs": [],
   "source": [
    "df_all2 = df2.copy()"
   ]
  },
  {
   "cell_type": "code",
   "execution_count": 6,
   "metadata": {},
   "outputs": [],
   "source": [
    "y_all2 = df_all2.pop('actualkwh')"
   ]
  },
  {
   "cell_type": "code",
   "execution_count": 7,
   "metadata": {},
   "outputs": [],
   "source": [
    "X_all2 = df_all2"
   ]
  },
  {
   "cell_type": "code",
   "execution_count": 8,
   "metadata": {},
   "outputs": [],
   "source": [
    "X_all2_train, X_all2_test, y_all2_train, y_all2_test = train_test_split(X_all2, y_all2, train_size=.75, test_size=.25, random_state=42)"
   ]
  },
  {
   "cell_type": "code",
   "execution_count": 9,
   "metadata": {},
   "outputs": [
    {
     "name": "stdout",
     "output_type": "stream",
     "text": [
      "R-squared: 0.9467465242290434\n"
     ]
    }
   ],
   "source": [
    "linreg = LinearRegression()\n",
    "linreg.fit(X_all2_train, y_all2_train)\n",
    "r2_all2 = linreg.score(X_all2_test, y_all2_test)\n",
    "print('R-squared:',r2_all2)"
   ]
  },
  {
   "cell_type": "code",
   "execution_count": null,
   "metadata": {},
   "outputs": [],
   "source": []
  },
  {
   "cell_type": "markdown",
   "metadata": {},
   "source": [
    "### Linear Regression Model using all system features + KG type\n",
    "\n",
    "(Tilt & Azimuth just centered) + (StandardScaler applied to X data)\n"
   ]
  },
  {
   "cell_type": "code",
   "execution_count": 10,
   "metadata": {},
   "outputs": [],
   "source": [
    "scaler = StandardScaler()\n",
    "X_scaled = pd.DataFrame(scaler.fit_transform(X_all2))"
   ]
  },
  {
   "cell_type": "code",
   "execution_count": 11,
   "metadata": {},
   "outputs": [],
   "source": [
    "X_train, X_test, y_train, y_test = train_test_split(X_scaled, y_all2, train_size=.75, test_size=.25, random_state=42)"
   ]
  },
  {
   "cell_type": "code",
   "execution_count": 12,
   "metadata": {},
   "outputs": [
    {
     "name": "stdout",
     "output_type": "stream",
     "text": [
      "R-squared: 0.9467465242290434\n"
     ]
    }
   ],
   "source": [
    "linreg = LinearRegression()\n",
    "linreg.fit(X_train, y_train)\n",
    "r2 = linreg.score(X_test, y_test)\n",
    "print('R-squared:',r2)"
   ]
  },
  {
   "cell_type": "code",
   "execution_count": 13,
   "metadata": {},
   "outputs": [
    {
     "data": {
      "text/plain": [
       "109619.60875745155"
      ]
     },
     "execution_count": 13,
     "metadata": {},
     "output_type": "execute_result"
    }
   ],
   "source": [
    "y_pred = linreg.predict(X_test)\n",
    "lr_mse = mean_squared_error(y_test,y_pred)\n",
    "lr_mse**.5"
   ]
  },
  {
   "cell_type": "code",
   "execution_count": 19,
   "metadata": {},
   "outputs": [
    {
     "data": {
      "text/plain": [
       "Text(0.5,0,'Coefficient Value')"
      ]
     },
     "execution_count": 19,
     "metadata": {},
     "output_type": "execute_result"
    },
    {
     "data": {
      "image/png": "[encoded data removed]",
      "text/plain": [
       "<Figure size 504x720 with 1 Axes>"
      ]
     },
     "metadata": {},
     "output_type": "display_data"
    }
   ],
   "source": [
    "coefs = pd.DataFrame({\n",
    "    'feature': X_all2.columns,\n",
    "    'coefficient': linreg.coef_,\n",
    "    'abs_coef': np.abs(linreg.coef_)\n",
    "})\n",
    "coefs.sort_values('abs_coef', inplace=True, ascending=False)\n",
    "\n",
    "plt.figure(figsize=(7,10))\n",
    "sns.barplot(x=coefs.coefficient.head(16), y=coefs.feature.head(16), orient='h')\n",
    "plt.title(\"LR Coefficients\", fontsize='18')\n",
    "plt.xlabel('Coefficient Value', fontsize='14')"
   ]
  },
  {
   "cell_type": "code",
   "execution_count": 20,
   "metadata": {},
   "outputs": [
    {
     "data": {
      "text/html": [
       "<div>\n",
       "<style scoped>\n",
       "    .dataframe tbody tr th:only-of-type {\n",
       "        vertical-align: middle;\n",
       "    }\n",
       "\n",
       "    .dataframe tbody tr th {\n",
       "        vertical-align: top;\n",
       "    }\n",
       "\n",
       "    .dataframe thead th {\n",
       "        text-align: right;\n",
       "    }\n",
       "</style>\n",
       "<table border=\"1\" class=\"dataframe\">\n",
       "  <thead>\n",
       "    <tr style=\"text-align: right;\">\n",
       "      <th></th>\n",
       "      <th>feature</th>\n",
       "      <th>coefficient</th>\n",
       "      <th>abs_coef</th>\n",
       "    </tr>\n",
       "  </thead>\n",
       "  <tbody>\n",
       "    <tr>\n",
       "      <th>0</th>\n",
       "      <td>capacity_dc_kw</td>\n",
       "      <td>446115.103589</td>\n",
       "      <td>446115.103589</td>\n",
       "    </tr>\n",
       "    <tr>\n",
       "      <th>3</th>\n",
       "      <td>mount_type_Fixed - Roof Mounted</td>\n",
       "      <td>-43901.260626</td>\n",
       "      <td>43901.260626</td>\n",
       "    </tr>\n",
       "    <tr>\n",
       "      <th>5</th>\n",
       "      <td>paneltype_other</td>\n",
       "      <td>-3090.548800</td>\n",
       "      <td>3090.548800</td>\n",
       "    </tr>\n",
       "    <tr>\n",
       "      <th>2</th>\n",
       "      <td>opt_az</td>\n",
       "      <td>-1766.427728</td>\n",
       "      <td>1766.427728</td>\n",
       "    </tr>\n",
       "    <tr>\n",
       "      <th>1</th>\n",
       "      <td>opt_tilt</td>\n",
       "      <td>-1754.502334</td>\n",
       "      <td>1754.502334</td>\n",
       "    </tr>\n",
       "    <tr>\n",
       "      <th>6</th>\n",
       "      <td>paneltype_poly</td>\n",
       "      <td>531.265930</td>\n",
       "      <td>531.265930</td>\n",
       "    </tr>\n",
       "    <tr>\n",
       "      <th>4</th>\n",
       "      <td>koeppen_Moderate</td>\n",
       "      <td>351.233770</td>\n",
       "      <td>351.233770</td>\n",
       "    </tr>\n",
       "  </tbody>\n",
       "</table>\n",
       "</div>"
      ],
      "text/plain": [
       "                           feature    coefficient       abs_coef\n",
       "0                   capacity_dc_kw  446115.103589  446115.103589\n",
       "3  mount_type_Fixed - Roof Mounted  -43901.260626   43901.260626\n",
       "5                  paneltype_other   -3090.548800    3090.548800\n",
       "2                           opt_az   -1766.427728    1766.427728\n",
       "1                         opt_tilt   -1754.502334    1754.502334\n",
       "6                   paneltype_poly     531.265930     531.265930\n",
       "4                 koeppen_Moderate     351.233770     351.233770"
      ]
     },
     "execution_count": 20,
     "metadata": {},
     "output_type": "execute_result"
    }
   ],
   "source": [
    "coefs"
   ]
  },
  {
   "cell_type": "code",
   "execution_count": null,
   "metadata": {},
   "outputs": [],
   "source": []
  },
  {
   "cell_type": "code",
   "execution_count": null,
   "metadata": {},
   "outputs": [],
   "source": []
  },
  {
   "cell_type": "markdown",
   "metadata": {},
   "source": [
    "### Linear Regression Model using all system features + KG type + NASA POWER\n",
    "\n",
    "(Tilt & Azimuth just centered) + (StandardScaler applied to X data)\n"
   ]
  },
  {
   "cell_type": "code",
   "execution_count": 21,
   "metadata": {},
   "outputs": [],
   "source": [
    "df0 = pd.read_csv('data/df_kgnasa.csv')\n",
    "df = df0.copy()\n",
    "y = df.pop('actualkwh')\n",
    "X = df"
   ]
  },
  {
   "cell_type": "code",
   "execution_count": 22,
   "metadata": {},
   "outputs": [],
   "source": [
    "scaler = StandardScaler()\n",
    "X_scaled = pd.DataFrame(scaler.fit_transform(X))"
   ]
  },
  {
   "cell_type": "code",
   "execution_count": 23,
   "metadata": {},
   "outputs": [],
   "source": [
    "X_train, X_test, y_train, y_test = train_test_split(X_scaled, y, train_size=.75, test_size=.25, random_state=42)"
   ]
  },
  {
   "cell_type": "code",
   "execution_count": 24,
   "metadata": {},
   "outputs": [
    {
     "name": "stdout",
     "output_type": "stream",
     "text": [
      "R-squared: 0.9473734982640887\n"
     ]
    }
   ],
   "source": [
    "linreg = LinearRegression()\n",
    "linreg.fit(X_train, y_train)\n",
    "r2 = linreg.score(X_test, y_test)\n",
    "print('R-squared:',r2)"
   ]
  },
  {
   "cell_type": "code",
   "execution_count": 25,
   "metadata": {},
   "outputs": [
    {
     "data": {
      "text/plain": [
       "108972.40085768409"
      ]
     },
     "execution_count": 25,
     "metadata": {},
     "output_type": "execute_result"
    }
   ],
   "source": [
    "y_pred = linreg.predict(X_test)\n",
    "lr_mse = mean_squared_error(y_test,y_pred)\n",
    "lr_mse**.5"
   ]
  },
  {
   "cell_type": "code",
   "execution_count": 28,
   "metadata": {},
   "outputs": [
    {
     "data": {
      "text/plain": [
       "Text(0.5,0,'Coefficient Value')"
      ]
     },
     "execution_count": 28,
     "metadata": {},
     "output_type": "execute_result"
    },
    {
     "data": {
      "image/png": "[encoded data removed]",
      "text/plain": [
       "<Figure size 504x720 with 1 Axes>"
      ]
     },
     "metadata": {},
     "output_type": "display_data"
    }
   ],
   "source": [
    "coefs = pd.DataFrame({\n",
    "    'feature': X.columns,\n",
    "    'coefficient': linreg.coef_,\n",
    "    'abs_coef': np.abs(linreg.coef_)\n",
    "})\n",
    "coefs.sort_values('abs_coef', inplace=True, ascending=False)\n",
    "\n",
    "plt.figure(figsize=(7,10))\n",
    "sns.barplot(x=coefs.coefficient.head(16), y=coefs.feature.head(16), orient='h')\n",
    "plt.title(\"LR Coefficients\", fontsize='18')\n",
    "plt.xlabel('Coefficient Value', fontsize='14')"
   ]
  },
  {
   "cell_type": "code",
   "execution_count": 29,
   "metadata": {},
   "outputs": [
    {
     "data": {
      "text/html": [
       "<div>\n",
       "<style scoped>\n",
       "    .dataframe tbody tr th:only-of-type {\n",
       "        vertical-align: middle;\n",
       "    }\n",
       "\n",
       "    .dataframe tbody tr th {\n",
       "        vertical-align: top;\n",
       "    }\n",
       "\n",
       "    .dataframe thead th {\n",
       "        text-align: right;\n",
       "    }\n",
       "</style>\n",
       "<table border=\"1\" class=\"dataframe\">\n",
       "  <thead>\n",
       "    <tr style=\"text-align: right;\">\n",
       "      <th></th>\n",
       "      <th>feature</th>\n",
       "      <th>coefficient</th>\n",
       "      <th>abs_coef</th>\n",
       "    </tr>\n",
       "  </thead>\n",
       "  <tbody>\n",
       "    <tr>\n",
       "      <th>0</th>\n",
       "      <td>capacity_dc_kw</td>\n",
       "      <td>445005.737933</td>\n",
       "      <td>445005.737933</td>\n",
       "    </tr>\n",
       "    <tr>\n",
       "      <th>3</th>\n",
       "      <td>mount_type_Fixed - Roof Mounted</td>\n",
       "      <td>-44341.382864</td>\n",
       "      <td>44341.382864</td>\n",
       "    </tr>\n",
       "    <tr>\n",
       "      <th>7</th>\n",
       "      <td>cellcategory_Premium</td>\n",
       "      <td>25638.021095</td>\n",
       "      <td>25638.021095</td>\n",
       "    </tr>\n",
       "    <tr>\n",
       "      <th>8</th>\n",
       "      <td>cellcategory_Standard</td>\n",
       "      <td>23748.150118</td>\n",
       "      <td>23748.150118</td>\n",
       "    </tr>\n",
       "    <tr>\n",
       "      <th>11</th>\n",
       "      <td>KT</td>\n",
       "      <td>13569.118405</td>\n",
       "      <td>13569.118405</td>\n",
       "    </tr>\n",
       "    <tr>\n",
       "      <th>10</th>\n",
       "      <td>ALLSKY_SFC_SW_DWN</td>\n",
       "      <td>-9553.605501</td>\n",
       "      <td>9553.605501</td>\n",
       "    </tr>\n",
       "    <tr>\n",
       "      <th>9</th>\n",
       "      <td>cellcategory_Thin Film</td>\n",
       "      <td>6789.234157</td>\n",
       "      <td>6789.234157</td>\n",
       "    </tr>\n",
       "    <tr>\n",
       "      <th>13</th>\n",
       "      <td>PS</td>\n",
       "      <td>-5132.622782</td>\n",
       "      <td>5132.622782</td>\n",
       "    </tr>\n",
       "    <tr>\n",
       "      <th>15</th>\n",
       "      <td>WS2M</td>\n",
       "      <td>4174.525849</td>\n",
       "      <td>4174.525849</td>\n",
       "    </tr>\n",
       "    <tr>\n",
       "      <th>4</th>\n",
       "      <td>koeppen_Moderate</td>\n",
       "      <td>3830.360400</td>\n",
       "      <td>3830.360400</td>\n",
       "    </tr>\n",
       "    <tr>\n",
       "      <th>12</th>\n",
       "      <td>PRECTOT</td>\n",
       "      <td>-3369.687689</td>\n",
       "      <td>3369.687689</td>\n",
       "    </tr>\n",
       "    <tr>\n",
       "      <th>1</th>\n",
       "      <td>opt_norm_tilt</td>\n",
       "      <td>2035.032036</td>\n",
       "      <td>2035.032036</td>\n",
       "    </tr>\n",
       "    <tr>\n",
       "      <th>6</th>\n",
       "      <td>paneltype_poly</td>\n",
       "      <td>1911.384542</td>\n",
       "      <td>1911.384542</td>\n",
       "    </tr>\n",
       "    <tr>\n",
       "      <th>2</th>\n",
       "      <td>opt_norm_az</td>\n",
       "      <td>831.852360</td>\n",
       "      <td>831.852360</td>\n",
       "    </tr>\n",
       "    <tr>\n",
       "      <th>14</th>\n",
       "      <td>T2M</td>\n",
       "      <td>406.673091</td>\n",
       "      <td>406.673091</td>\n",
       "    </tr>\n",
       "    <tr>\n",
       "      <th>5</th>\n",
       "      <td>paneltype_other</td>\n",
       "      <td>-218.876826</td>\n",
       "      <td>218.876826</td>\n",
       "    </tr>\n",
       "  </tbody>\n",
       "</table>\n",
       "</div>"
      ],
      "text/plain": [
       "                            feature    coefficient       abs_coef\n",
       "0                    capacity_dc_kw  445005.737933  445005.737933\n",
       "3   mount_type_Fixed - Roof Mounted  -44341.382864   44341.382864\n",
       "7              cellcategory_Premium   25638.021095   25638.021095\n",
       "8             cellcategory_Standard   23748.150118   23748.150118\n",
       "11                               KT   13569.118405   13569.118405\n",
       "10                ALLSKY_SFC_SW_DWN   -9553.605501    9553.605501\n",
       "9            cellcategory_Thin Film    6789.234157    6789.234157\n",
       "13                               PS   -5132.622782    5132.622782\n",
       "15                             WS2M    4174.525849    4174.525849\n",
       "4                  koeppen_Moderate    3830.360400    3830.360400\n",
       "12                          PRECTOT   -3369.687689    3369.687689\n",
       "1                     opt_norm_tilt    2035.032036    2035.032036\n",
       "6                    paneltype_poly    1911.384542    1911.384542\n",
       "2                       opt_norm_az     831.852360     831.852360\n",
       "14                              T2M     406.673091     406.673091\n",
       "5                   paneltype_other    -218.876826     218.876826"
      ]
     },
     "execution_count": 29,
     "metadata": {},
     "output_type": "execute_result"
    }
   ],
   "source": [
    "coefs"
   ]
  },
  {
   "cell_type": "code",
   "execution_count": null,
   "metadata": {},
   "outputs": [],
   "source": []
  }
 ],
 "metadata": {
  "kernelspec": {
   "display_name": "Python 3",
   "language": "python",
   "name": "python3"
  },
  "language_info": {
   "codemirror_mode": {
    "name": "ipython",
    "version": 3
   },
   "file_extension": ".py",
   "mimetype": "text/x-python",
   "name": "python",
   "nbconvert_exporter": "python",
   "pygments_lexer": "ipython3",
   "version": "3.6.5"
  }
 },
 "nbformat": 4,
 "nbformat_minor": 2
}
