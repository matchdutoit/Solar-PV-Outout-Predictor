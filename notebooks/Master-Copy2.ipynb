{
 "cells": [
  {
   "cell_type": "code",
   "execution_count": 1,
   "metadata": {},
   "outputs": [],
   "source": [
    "import pandas as pd\n",
    "import numpy as np\n",
    "from sklearn.metrics import *\n",
    "from sklearn.linear_model import LinearRegression, Lasso, Ridge, ElasticNet\n",
    "from sklearn.ensemble import RandomForestRegressor\n",
    "from sklearn.model_selection import GridSearchCV, train_test_split\n",
    "from sklearn.preprocessing import StandardScaler\n",
    "import matplotlib.pyplot as plt\n",
    "import seaborn as sns\n",
    "import pickle\n",
    "\n",
    "%matplotlib inline"
   ]
  },
  {
   "cell_type": "code",
   "execution_count": 4,
   "metadata": {},
   "outputs": [],
   "source": [
    "df0 = pd.read_csv('../data/annual_csi_data_for_match.csv', sep=',')"
   ]
  },
  {
   "cell_type": "markdown",
   "metadata": {},
   "source": [
    "# Data Cleaning"
   ]
  },
  {
   "cell_type": "code",
   "execution_count": 5,
   "metadata": {},
   "outputs": [],
   "source": [
    "df0.rename(index=str, columns={\"datatime\": \"datetime\"}, inplace=True)\n",
    "df0['datetime'] = pd.to_datetime(df0['datetime'])\n",
    "df0.reset_index(drop = True, inplace = True)"
   ]
  },
  {
   "cell_type": "code",
   "execution_count": 6,
   "metadata": {},
   "outputs": [],
   "source": [
    "# Make copy of raw import\n",
    "df = df0.copy()"
   ]
  },
  {
   "cell_type": "code",
   "execution_count": 7,
   "metadata": {},
   "outputs": [],
   "source": [
    "# Function for converting datetime data into just year\n",
    "def dt_to_year(df):\n",
    "    df['year'] = np.zeros(df.shape[0])\n",
    "    for i, el in df['datetime'].iteritems():\n",
    "        df.at[i,'year'] = el.year\n",
    "    df['year'] = df['year'].astype(int)\n",
    "    df.drop(['datetime'], axis=1, inplace=True)"
   ]
  },
  {
   "cell_type": "code",
   "execution_count": 8,
   "metadata": {},
   "outputs": [],
   "source": [
    "dt_to_year(df)"
   ]
  },
  {
   "cell_type": "code",
   "execution_count": 9,
   "metadata": {},
   "outputs": [],
   "source": [
    "# Convert lat/lon to 2 decimals for NASA API\n",
    "df.reset_index(drop = True, inplace = True)\n",
    "df['lat'] = round(df['lat'],2)\n",
    "df['lon'] = round(df['lon'],2)"
   ]
  },
  {
   "cell_type": "markdown",
   "metadata": {},
   "source": [
    "### Save this df for NASA data to match lat/lon/year in 'Nasa weather merge script'"
   ]
  },
  {
   "cell_type": "code",
   "execution_count": null,
   "metadata": {},
   "outputs": [],
   "source": [
    "df.to_csv('data/readyforweath.csv',index=False)"
   ]
  },
  {
   "cell_type": "code",
   "execution_count": 5,
   "metadata": {},
   "outputs": [
    {
     "data": {
      "text/html": [
       "<div>\n",
       "<style scoped>\n",
       "    .dataframe tbody tr th:only-of-type {\n",
       "        vertical-align: middle;\n",
       "    }\n",
       "\n",
       "    .dataframe tbody tr th {\n",
       "        vertical-align: top;\n",
       "    }\n",
       "\n",
       "    .dataframe thead th {\n",
       "        text-align: right;\n",
       "    }\n",
       "</style>\n",
       "<table border=\"1\" class=\"dataframe\">\n",
       "  <thead>\n",
       "    <tr style=\"text-align: right;\">\n",
       "      <th></th>\n",
       "      <th>lat</th>\n",
       "      <th>lon</th>\n",
       "      <th>city</th>\n",
       "      <th>actualkwh</th>\n",
       "      <th>irradiancekwh</th>\n",
       "      <th>pr</th>\n",
       "      <th>mount_type</th>\n",
       "      <th>koeppen</th>\n",
       "      <th>capacity_dc_kw</th>\n",
       "      <th>tilt</th>\n",
       "      <th>azimuth</th>\n",
       "      <th>paneltype</th>\n",
       "      <th>cellcategory</th>\n",
       "      <th>cod</th>\n",
       "      <th>invertermake</th>\n",
       "      <th>invertermodel</th>\n",
       "      <th>panelmake</th>\n",
       "      <th>panelmodel</th>\n",
       "      <th>year</th>\n",
       "    </tr>\n",
       "  </thead>\n",
       "  <tbody>\n",
       "    <tr>\n",
       "      <th>0</th>\n",
       "      <td>36.82</td>\n",
       "      <td>-119.76</td>\n",
       "      <td>Fresno</td>\n",
       "      <td>215457.0875</td>\n",
       "      <td>278138.156430</td>\n",
       "      <td>0.774641</td>\n",
       "      <td>Fixed - Roof Mounted</td>\n",
       "      <td>Moderate</td>\n",
       "      <td>161.120</td>\n",
       "      <td>30.0</td>\n",
       "      <td>180.0</td>\n",
       "      <td>mono</td>\n",
       "      <td>Premium</td>\n",
       "      <td>2008-09-05</td>\n",
       "      <td>SatCon</td>\n",
       "      <td>AE-135-60-PV-A</td>\n",
       "      <td>SunPower</td>\n",
       "      <td>PL-EVER-ES-190P</td>\n",
       "      <td>2009</td>\n",
       "    </tr>\n",
       "    <tr>\n",
       "      <th>1</th>\n",
       "      <td>36.82</td>\n",
       "      <td>-119.76</td>\n",
       "      <td>Fresno</td>\n",
       "      <td>193487.6600</td>\n",
       "      <td>261959.131597</td>\n",
       "      <td>0.738618</td>\n",
       "      <td>Fixed - Roof Mounted</td>\n",
       "      <td>Moderate</td>\n",
       "      <td>161.120</td>\n",
       "      <td>30.0</td>\n",
       "      <td>180.0</td>\n",
       "      <td>mono</td>\n",
       "      <td>Premium</td>\n",
       "      <td>2008-09-05</td>\n",
       "      <td>SatCon</td>\n",
       "      <td>AE-135-60-PV-A</td>\n",
       "      <td>SunPower</td>\n",
       "      <td>PL-EVER-ES-190P</td>\n",
       "      <td>2010</td>\n",
       "    </tr>\n",
       "    <tr>\n",
       "      <th>2</th>\n",
       "      <td>34.02</td>\n",
       "      <td>-118.11</td>\n",
       "      <td>Montebello</td>\n",
       "      <td>288246.6500</td>\n",
       "      <td>416118.658276</td>\n",
       "      <td>0.692703</td>\n",
       "      <td>Fixed - Roof Mounted</td>\n",
       "      <td>Moderate</td>\n",
       "      <td>243.200</td>\n",
       "      <td>30.0</td>\n",
       "      <td>180.0</td>\n",
       "      <td>mono</td>\n",
       "      <td>Premium</td>\n",
       "      <td>2007-08-01</td>\n",
       "      <td>Xantrex</td>\n",
       "      <td>PV225S-480-P</td>\n",
       "      <td>SunPower</td>\n",
       "      <td>PL-EVER-ES-190P</td>\n",
       "      <td>2009</td>\n",
       "    </tr>\n",
       "    <tr>\n",
       "      <th>3</th>\n",
       "      <td>34.02</td>\n",
       "      <td>-118.11</td>\n",
       "      <td>Montebello</td>\n",
       "      <td>252797.2250</td>\n",
       "      <td>409327.120794</td>\n",
       "      <td>0.617592</td>\n",
       "      <td>Fixed - Roof Mounted</td>\n",
       "      <td>Moderate</td>\n",
       "      <td>243.200</td>\n",
       "      <td>30.0</td>\n",
       "      <td>180.0</td>\n",
       "      <td>mono</td>\n",
       "      <td>Premium</td>\n",
       "      <td>2007-08-01</td>\n",
       "      <td>Xantrex</td>\n",
       "      <td>PV225S-480-P</td>\n",
       "      <td>SunPower</td>\n",
       "      <td>PL-EVER-ES-190P</td>\n",
       "      <td>2010</td>\n",
       "    </tr>\n",
       "    <tr>\n",
       "      <th>4</th>\n",
       "      <td>33.78</td>\n",
       "      <td>-117.23</td>\n",
       "      <td>Perris</td>\n",
       "      <td>56125.0000</td>\n",
       "      <td>81674.965560</td>\n",
       "      <td>0.687175</td>\n",
       "      <td>Fixed - Roof Mounted</td>\n",
       "      <td>Moderate</td>\n",
       "      <td>46.592</td>\n",
       "      <td>30.0</td>\n",
       "      <td>180.0</td>\n",
       "      <td>poly</td>\n",
       "      <td>Standard</td>\n",
       "      <td>2007-10-15</td>\n",
       "      <td>SatCon</td>\n",
       "      <td>AE-50-60-PV-D</td>\n",
       "      <td>Sharp</td>\n",
       "      <td>ND-208U2</td>\n",
       "      <td>2009</td>\n",
       "    </tr>\n",
       "  </tbody>\n",
       "</table>\n",
       "</div>"
      ],
      "text/plain": [
       "     lat     lon        city    actualkwh  irradiancekwh        pr  \\\n",
       "0  36.82 -119.76      Fresno  215457.0875  278138.156430  0.774641   \n",
       "1  36.82 -119.76      Fresno  193487.6600  261959.131597  0.738618   \n",
       "2  34.02 -118.11  Montebello  288246.6500  416118.658276  0.692703   \n",
       "3  34.02 -118.11  Montebello  252797.2250  409327.120794  0.617592   \n",
       "4  33.78 -117.23      Perris   56125.0000   81674.965560  0.687175   \n",
       "\n",
       "             mount_type   koeppen  capacity_dc_kw  tilt azimuth paneltype  \\\n",
       "0  Fixed - Roof Mounted  Moderate         161.120  30.0   180.0      mono   \n",
       "1  Fixed - Roof Mounted  Moderate         161.120  30.0   180.0      mono   \n",
       "2  Fixed - Roof Mounted  Moderate         243.200  30.0   180.0      mono   \n",
       "3  Fixed - Roof Mounted  Moderate         243.200  30.0   180.0      mono   \n",
       "4  Fixed - Roof Mounted  Moderate          46.592  30.0   180.0      poly   \n",
       "\n",
       "  cellcategory         cod invertermake   invertermodel panelmake  \\\n",
       "0      Premium  2008-09-05       SatCon  AE-135-60-PV-A  SunPower   \n",
       "1      Premium  2008-09-05       SatCon  AE-135-60-PV-A  SunPower   \n",
       "2      Premium  2007-08-01      Xantrex    PV225S-480-P  SunPower   \n",
       "3      Premium  2007-08-01      Xantrex    PV225S-480-P  SunPower   \n",
       "4     Standard  2007-10-15       SatCon   AE-50-60-PV-D     Sharp   \n",
       "\n",
       "        panelmodel  year  \n",
       "0  PL-EVER-ES-190P  2009  \n",
       "1  PL-EVER-ES-190P  2010  \n",
       "2  PL-EVER-ES-190P  2009  \n",
       "3  PL-EVER-ES-190P  2010  \n",
       "4         ND-208U2  2009  "
      ]
     },
     "execution_count": 5,
     "metadata": {},
     "output_type": "execute_result"
    }
   ],
   "source": [
    "df = pd.read_csv('../data/readyforweath.csv')\n",
    "df.head()"
   ]
  },
  {
   "cell_type": "markdown",
   "metadata": {},
   "source": [
    " "
   ]
  },
  {
   "cell_type": "markdown",
   "metadata": {},
   "source": [
    "### (cont. cleaning)"
   ]
  },
  {
   "cell_type": "code",
   "execution_count": 6,
   "metadata": {},
   "outputs": [],
   "source": [
    "def clean_data(df):    \n",
    "    drop_list = ['city', 'cod', 'panelmodel','invertermodel','pr','lon','invertermake','panelmake']\n",
    "    df.drop(drop_list, axis=1, inplace=True)\n",
    "    df.paneltype.fillna(value = 'poly', inplace=True)\n",
    "    df.mount_type.fillna(value = 'Fixed - Roof Mounted', inplace=True)\n",
    "    df['cellcategory'].replace('Unknown', 'Standard', inplace=True)\n",
    "    df['azimuth'].replace('Mixed', 180, inplace=True)\n",
    "    df['azimuth'] = df['azimuth'].astype(float)\n",
    "    df['tilt'].replace('Mixed', round(df['lat'],1),inplace=True)\n",
    "    df['tilt'] = df['tilt'].astype(float)\n",
    "    df['lat'] = round(df['lat'],1)\n",
    "    \n",
    "    # Get opt tilt & azimuth\n",
    "    tilt = df['tilt'].values.astype(float)\n",
    "    lat = df['lat'].values.astype(float)\n",
    "    az = df['azimuth'].values\n",
    "    df['opt_tilt'] = abs(tilt-lat)\n",
    "    df['opt_az'] = abs(az-180)\n",
    "    \n",
    "    #Group panel types != poly/mono to other\n",
    "    for i, el in df['paneltype'].iteritems():\n",
    "        if el not in ['poly','mono']:\n",
    "            df.at[i,'paneltype']='other'\n",
    "    return df"
   ]
  },
  {
   "cell_type": "code",
   "execution_count": 7,
   "metadata": {},
   "outputs": [],
   "source": [
    "df = clean_data(df)"
   ]
  },
  {
   "cell_type": "code",
   "execution_count": null,
   "metadata": {},
   "outputs": [],
   "source": []
  },
  {
   "cell_type": "code",
   "execution_count": 8,
   "metadata": {},
   "outputs": [],
   "source": [
    "df = pd.get_dummies(df,columns = ['mount_type','koeppen','paneltype','cellcategory'], drop_first=True)"
   ]
  },
  {
   "cell_type": "code",
   "execution_count": null,
   "metadata": {},
   "outputs": [],
   "source": []
  },
  {
   "cell_type": "code",
   "execution_count": 9,
   "metadata": {},
   "outputs": [],
   "source": [
    "cols = ['actualkwh','capacity_dc_kw','opt_tilt','opt_az', \n",
    "       'mount_type_Fixed - Roof Mounted', 'koeppen_Moderate', 'paneltype_other', 'paneltype_poly',\n",
    "        'cellcategory_Premium', 'cellcategory_Standard',\n",
    "       'cellcategory_Thin Film','year']\n",
    "df = df.reindex(cols, axis=1)"
   ]
  },
  {
   "cell_type": "code",
   "execution_count": 10,
   "metadata": {},
   "outputs": [],
   "source": [
    "df.to_csv('../data/df_kg_final_withyear.csv',index=False)"
   ]
  },
  {
   "cell_type": "code",
   "execution_count": null,
   "metadata": {},
   "outputs": [],
   "source": []
  },
  {
   "cell_type": "markdown",
   "metadata": {},
   "source": [
    "# Let's join the NASA data"
   ]
  },
  {
   "cell_type": "code",
   "execution_count": 11,
   "metadata": {},
   "outputs": [],
   "source": [
    "nasa = pd.read_csv('../data/nasa_weather.csv')\n",
    "csi = pd.read_csv('../data/df_kg_final_withyear.csv')"
   ]
  },
  {
   "cell_type": "code",
   "execution_count": 12,
   "metadata": {},
   "outputs": [
    {
     "name": "stdout",
     "output_type": "stream",
     "text": [
      "(8157, 6) (8157, 12)\n"
     ]
    }
   ],
   "source": [
    "print(nasa.shape, csi.shape)"
   ]
  },
  {
   "cell_type": "code",
   "execution_count": 13,
   "metadata": {},
   "outputs": [],
   "source": [
    "df_csi_nasa = csi.join(nasa)"
   ]
  },
  {
   "cell_type": "code",
   "execution_count": 14,
   "metadata": {},
   "outputs": [],
   "source": [
    "df_csi_nasa.to_csv('../data/df_csi_nasa_withyear.csv',index=False)"
   ]
  },
  {
   "cell_type": "code",
   "execution_count": 15,
   "metadata": {},
   "outputs": [
    {
     "data": {
      "text/plain": [
       "(8157, 18)"
      ]
     },
     "execution_count": 15,
     "metadata": {},
     "output_type": "execute_result"
    }
   ],
   "source": [
    "df_csi_nasa.shape"
   ]
  },
  {
   "cell_type": "code",
   "execution_count": null,
   "metadata": {},
   "outputs": [],
   "source": []
  },
  {
   "cell_type": "markdown",
   "metadata": {},
   "source": [
    "# EDA: Let's look at the data"
   ]
  },
  {
   "cell_type": "code",
   "execution_count": 16,
   "metadata": {},
   "outputs": [],
   "source": [
    "df = pd.read_csv('../data/df_csi_nasa_withyear.csv')"
   ]
  },
  {
   "cell_type": "markdown",
   "metadata": {},
   "source": [
    "### Plot capactity by year"
   ]
  },
  {
   "cell_type": "code",
   "execution_count": 21,
   "metadata": {},
   "outputs": [
    {
     "data": {
      "text/plain": [
       "2012    1922\n",
       "2011    1799\n",
       "2013    1512\n",
       "2014    1212\n",
       "2010    1147\n",
       "2009     530\n",
       "2008      35\n",
       "Name: year, dtype: int64"
      ]
     },
     "execution_count": 21,
     "metadata": {},
     "output_type": "execute_result"
    }
   ],
   "source": [
    "df['year'].value_counts()"
   ]
  },
  {
   "cell_type": "code",
   "execution_count": 88,
   "metadata": {},
   "outputs": [
    {
     "data": {
      "text/plain": [
       "4725.84"
      ]
     },
     "execution_count": 88,
     "metadata": {},
     "output_type": "execute_result"
    }
   ],
   "source": [
    "df['capacity_dc_kw'].max()"
   ]
  },
  {
   "cell_type": "code",
   "execution_count": 84,
   "metadata": {},
   "outputs": [
    {
     "data": {
      "image/png": "[encoded data removed]",
      "text/plain": [
       "<Figure size 1728x576 with 2 Axes>"
      ]
     },
     "metadata": {},
     "output_type": "display_data"
    }
   ],
   "source": [
    "# Unfinished - change back to fig and plt , get rid of sub plots, too complicated\n",
    "\n",
    "fig, (ax0, ax1) = plt.subplots(1, 2, figsize=(24, 8))\n",
    "\n",
    "hist_x_cap = df['capacity_dc_kw'].values\n",
    "\n",
    "ax0.set_xlabel('System DC Capacity (kW)', fontsize='14')\n",
    "ax0.set_ylabel('Frequency',fontsize='14')\n",
    "# ax0.set_yticks()\n",
    "# plt.xticks(np.linspace(0,5000,26), fontsize='14', rotation='40')\n",
    "ax0.set_title('Distribution of Systems by DC Capacity (kW)', fontsize='18')\n",
    "ax0.hist(hist_x_cap, bins=100);"
   ]
  },
  {
   "cell_type": "code",
   "execution_count": null,
   "metadata": {},
   "outputs": [],
   "source": []
  },
  {
   "cell_type": "code",
   "execution_count": 92,
   "metadata": {},
   "outputs": [
    {
     "data": {
      "image/png": "[encoded data removed]",
      "text/plain": [
       "<Figure size 1080x720 with 1 Axes>"
      ]
     },
     "metadata": {},
     "output_type": "display_data"
    }
   ],
   "source": [
    "# hist_x_cap = df['capacity_dc_kw'].values\n",
    "hist_x_logcap = np.log10(df['capacity_dc_kw'].values)\n",
    "fig = plt.figure(figsize=(15,10))\n",
    "plt.xlabel('System DC Capacity (kW)', fontsize='14')\n",
    "plt.ylabel('Frequency',fontsize='14')\n",
    "plt.yticks(fontsize='14')\n",
    "# plt.xticks(np.linspace(0,300000,17), fontsize='14', rotation='40')\n",
    "plt.xticks(np.linspace(0,4,17), fontsize='14')\n",
    "plt.title('Distribution of Systems by DC Capacity (kW)', fontsize='18')\n",
    "plt.hist(hist_x_logcap, bins=80)\n",
    "plt.axvspan(np.log10(df['capacity_dc_kw'].values).min(), 1.3, facecolor='g', alpha=0.3)\n",
    "plt.axvspan(1.3,3.3, facecolor='m', alpha=0.3)\n",
    "(ymn,ymx)= plt.ylim()\n",
    "plt.vlines([np.log10(df['capacity_dc_kw'].values).min(), 1.3, 3.3], 0, 300, linestyles='dashed');"
   ]
  },
  {
   "cell_type": "code",
   "execution_count": null,
   "metadata": {},
   "outputs": [],
   "source": []
  },
  {
   "cell_type": "code",
   "execution_count": null,
   "metadata": {},
   "outputs": [],
   "source": []
  },
  {
   "cell_type": "code",
   "execution_count": null,
   "metadata": {},
   "outputs": [],
   "source": []
  },
  {
   "cell_type": "code",
   "execution_count": null,
   "metadata": {},
   "outputs": [],
   "source": []
  },
  {
   "cell_type": "markdown",
   "metadata": {},
   "source": [
    "### Distributions"
   ]
  },
  {
   "cell_type": "code",
   "execution_count": 56,
   "metadata": {
    "scrolled": true
   },
   "outputs": [
    {
     "data": {
      "image/png": "[encoded data removed]",
      "text/plain": [
       "<Figure size 1080x720 with 1 Axes>"
      ]
     },
     "metadata": {},
     "output_type": "display_data"
    }
   ],
   "source": [
    "hist_x = np.log10(df['actualkwh'].values)\n",
    "fig = plt.figure(figsize=(15,10))\n",
    "plt.xlabel('Annual kWh Production', fontsize='14')\n",
    "plt.ylabel('Frequency',fontsize='14')\n",
    "plt.yticks(fontsize='14')\n",
    "# plt.xticks(np.linspace(0,8000000,17), fontsize='14', rotation='40')\n",
    "plt.title('Distribution of Systems by Annual Production (kWh)', fontsize='18')\n",
    "plt.hist(hist_x, bins=100);"
   ]
  },
  {
   "cell_type": "code",
   "execution_count": 17,
   "metadata": {
    "scrolled": true
   },
   "outputs": [
    {
     "data": {
      "image/png": "[encoded data removed]",
      "text/plain": [
       "<Figure size 1080x720 with 1 Axes>"
      ]
     },
     "metadata": {},
     "output_type": "display_data"
    }
   ],
   "source": [
    "hist_x = df['actualkwh'][df['actualkwh']<500000].values\n",
    "fig = plt.figure(figsize=(15,10))\n",
    "plt.xlabel('Annual kWh Production', fontsize='14')\n",
    "plt.ylabel('Frequency', fontsize='14')\n",
    "plt.xticks(np.linspace(0,500000,21), fontsize='14', rotation='40')\n",
    "plt.yticks(fontsize='14')\n",
    "plt.title('Distribution of Systems by Annual Production < 500000 kWh', fontsize='18')\n",
    "plt.hist(hist_x, bins=100);"
   ]
  },
  {
   "cell_type": "code",
   "execution_count": null,
   "metadata": {
    "scrolled": true
   },
   "outputs": [],
   "source": [
    "hist_x = df['actualkwh'][df['actualkwh']<50000].values\n",
    "fig = plt.figure(figsize=(15,10))\n",
    "plt.xlabel('Annual kWh Production', fontsize='14')\n",
    "plt.ylabel('Frequency', fontsize='14')\n",
    "plt.xticks(np.linspace(0,50000,21), fontsize='14', rotation='40')\n",
    "plt.yticks(fontsize='14')\n",
    "plt.title('Distribution of Systems by Annual Production < 50000 kWh', fontsize='18')\n",
    "plt.hist(hist_x, bins=50);"
   ]
  },
  {
   "cell_type": "code",
   "execution_count": null,
   "metadata": {
    "scrolled": false
   },
   "outputs": [],
   "source": [
    "hist_x = df['capacity_dc_kw'].values\n",
    "fig = plt.figure(figsize=(15,10))\n",
    "plt.xlabel('System Capacity (kW)', fontsize='14')\n",
    "plt.ylabel('Frequency', fontsize='14')\n",
    "plt.yticks(fontsize='14')\n",
    "plt.xticks(np.linspace(0,4000,17),fontsize='14', rotation='50')\n",
    "plt.title('Distribution of Systems by System Capacity (kW)', fontsize='18')\n",
    "plt.hist(hist_x, bins=100);"
   ]
  },
  {
   "cell_type": "code",
   "execution_count": null,
   "metadata": {
    "scrolled": false
   },
   "outputs": [],
   "source": [
    "hist_x = df['capacity_dc_kw'][df['capacity_dc_kw']<600].values\n",
    "fig = plt.figure(figsize=(15,10))\n",
    "plt.xlabel('System Capacity (kW)', fontsize='14')\n",
    "plt.ylabel('Frequency', fontsize='14')\n",
    "plt.yticks(fontsize='14')\n",
    "plt.xticks(np.linspace(0,600,25), fontsize='14', rotation='50')\n",
    "plt.title('Distribution of Systems by System Capacity < 600 kW', fontsize='18')\n",
    "plt.hist(hist_x, bins=100);"
   ]
  },
  {
   "cell_type": "code",
   "execution_count": null,
   "metadata": {
    "scrolled": false
   },
   "outputs": [],
   "source": [
    "hist_x = df['capacity_dc_kw'][df['capacity_dc_kw']<50].values\n",
    "fig = plt.figure(figsize=(15,10))\n",
    "plt.xlabel('System Capacity (kW)', fontsize='14')\n",
    "plt.ylabel('Frequency', fontsize='14')\n",
    "plt.yticks(fontsize='14')\n",
    "plt.xticks(np.linspace(0,50,11), fontsize='14', rotation='50')\n",
    "plt.title('Distribution of Systems by System Capacity < 50 kW', fontsize='18')\n",
    "plt.hist(hist_x, bins=50);"
   ]
  },
  {
   "cell_type": "code",
   "execution_count": null,
   "metadata": {
    "scrolled": false
   },
   "outputs": [],
   "source": [
    "plt.figure(figsize=(15,10))\n",
    "plt.scatter(df['capacity_dc_kw'].values, df['actualkwh'].values, s=3)\n",
    "plt.title(\"Capacity vs Output for All Systems\",fontsize='18')\n",
    "# plt.yticks(np.linspace(0,900000,19))\n",
    "plt.xticks(np.linspace(0,5000,21), fontsize='14', rotation='50')\n",
    "plt.xlabel(\"System Capacity (kW)\",fontsize='14')\n",
    "plt.ylabel(\"Actual Annual Output (kWh)\",fontsize='14');"
   ]
  },
  {
   "cell_type": "code",
   "execution_count": null,
   "metadata": {
    "scrolled": false
   },
   "outputs": [],
   "source": [
    "plt.figure(figsize=(15,10))\n",
    "plt.scatter(df['capacity_dc_kw'][df['capacity_dc_kw']<250].values, df['actualkwh'][df['capacity_dc_kw']<250].values, s=10)\n",
    "plt.title(\"Capacity vs Output for Systems < 250 kW\",fontsize='18')\n",
    "# plt.yticks(np.linspace(0,900000,19))\n",
    "plt.xticks(np.linspace(0,250,11), fontsize='14', rotation='50')\n",
    "plt.xlabel(\"System Capacity (kW)\",fontsize='14')\n",
    "plt.ylabel(\"Actual Annual Output (kWh)\",fontsize='14');"
   ]
  },
  {
   "cell_type": "markdown",
   "metadata": {},
   "source": [
    "### Looks like there are cases of over reporting production. Let's remove the outliers"
   ]
  },
  {
   "cell_type": "code",
   "execution_count": 18,
   "metadata": {},
   "outputs": [],
   "source": [
    "df['efficiency'] = df['actualkwh'] / df['capacity_dc_kw']\n",
    "\n",
    "eff_std = df.efficiency.std()\n",
    "eff_mean = df.efficiency.mean()"
   ]
  },
  {
   "cell_type": "code",
   "execution_count": 19,
   "metadata": {},
   "outputs": [
    {
     "name": "stdout",
     "output_type": "stream",
     "text": [
      "(8146, 18)\n"
     ]
    }
   ],
   "source": [
    "# Removing outliers > 4 std devs away from mean\n",
    "efficiency_mask = np.abs((eff_mean - df['efficiency'])/eff_std) < 4\n",
    "\n",
    "df = df.loc[efficiency_mask, :]\n",
    "print(df.shape)"
   ]
  },
  {
   "cell_type": "code",
   "execution_count": null,
   "metadata": {},
   "outputs": [],
   "source": []
  },
  {
   "cell_type": "code",
   "execution_count": 20,
   "metadata": {
    "scrolled": false
   },
   "outputs": [
    {
     "data": {
      "image/png": "[encoded data removed]",
      "text/plain": [
       "<Figure size 1080x720 with 1 Axes>"
      ]
     },
     "metadata": {},
     "output_type": "display_data"
    }
   ],
   "source": [
    "plt.figure(figsize=(15,10))\n",
    "plt.scatter(df['capacity_dc_kw'][df['capacity_dc_kw']<250].values, df['actualkwh'][df['capacity_dc_kw']<250].values, s=10)\n",
    "plt.title(\"Capacity vs Output for Systems < 250 kW\",fontsize='18')\n",
    "\n",
    "plt.xticks(np.linspace(0,250,11), fontsize='14', rotation='50')\n",
    "plt.xlabel(\"System Capacity (kW)\",fontsize='14')\n",
    "plt.ylabel(\"Actual Annual Output (kWh)\",fontsize='14');"
   ]
  },
  {
   "cell_type": "code",
   "execution_count": 21,
   "metadata": {
    "scrolled": false
   },
   "outputs": [
    {
     "data": {
      "image/png": "[encoded data removed]",
      "text/plain": [
       "<Figure size 1080x720 with 1 Axes>"
      ]
     },
     "metadata": {},
     "output_type": "display_data"
    }
   ],
   "source": [
    "plt.figure(figsize=(15,10))\n",
    "plt.scatter(df['capacity_dc_kw'].values, df['actualkwh'].values, s=3)\n",
    "plt.title(\"Capacity vs Output for All Systems\",fontsize='18')\n",
    "\n",
    "plt.xticks(np.linspace(0,5000,21), fontsize='14', rotation='50')\n",
    "plt.xlabel(\"System Capacity (kW)\",fontsize='14')\n",
    "plt.ylabel(\"Actual Annual Output (kWh)\",fontsize='14');"
   ]
  },
  {
   "cell_type": "code",
   "execution_count": null,
   "metadata": {},
   "outputs": [],
   "source": []
  },
  {
   "cell_type": "code",
   "execution_count": 22,
   "metadata": {},
   "outputs": [],
   "source": [
    "# drop efficiency metric before we export for modeling\n",
    "df.drop('efficiency', axis=1, inplace=True)\n"
   ]
  },
  {
   "cell_type": "code",
   "execution_count": null,
   "metadata": {},
   "outputs": [],
   "source": [
    "df.to_csv('../data/df_for_modeling.csv', index=False)"
   ]
  },
  {
   "cell_type": "code",
   "execution_count": 25,
   "metadata": {},
   "outputs": [],
   "source": []
  },
  {
   "cell_type": "code",
   "execution_count": null,
   "metadata": {},
   "outputs": [],
   "source": []
  },
  {
   "cell_type": "code",
   "execution_count": null,
   "metadata": {},
   "outputs": [],
   "source": []
  },
  {
   "cell_type": "markdown",
   "metadata": {},
   "source": [
    "# Modeling"
   ]
  },
  {
   "cell_type": "markdown",
   "metadata": {},
   "source": [
    "### 1. Baseline (mean)"
   ]
  },
  {
   "cell_type": "code",
   "execution_count": 23,
   "metadata": {},
   "outputs": [],
   "source": [
    "df_base0 = pd.read_csv('../data/df_for_modeling.csv')\n",
    "df_base = df_base0.copy()"
   ]
  },
  {
   "cell_type": "code",
   "execution_count": 24,
   "metadata": {},
   "outputs": [],
   "source": [
    "y = df_base.pop('actualkwh')\n",
    "\n",
    "df_base['mean'] = np.mean(y)\n",
    "y_mean = df_base.pop('mean')"
   ]
  },
  {
   "cell_type": "code",
   "execution_count": 25,
   "metadata": {},
   "outputs": [],
   "source": [
    "X_train, X_test, y_train, y_test = train_test_split(y_mean, y, train_size=.75, test_size=.25, random_state=42)"
   ]
  },
  {
   "cell_type": "code",
   "execution_count": 26,
   "metadata": {},
   "outputs": [
    {
     "name": "stdout",
     "output_type": "stream",
     "text": [
      "Baseline R-squared: -0.0\n"
     ]
    }
   ],
   "source": [
    "r2 = r2_score(y_test, X_test)\n",
    "print('Baseline R-squared:',round(r2,3))"
   ]
  },
  {
   "cell_type": "code",
   "execution_count": 27,
   "metadata": {},
   "outputs": [
    {
     "name": "stdout",
     "output_type": "stream",
     "text": [
      "Baseline rmse: 477643.5\n"
     ]
    }
   ],
   "source": [
    "base_mse = mean_squared_error(y_test, X_test)\n",
    "print('Baseline rmse:',round(base_mse**.5,1))"
   ]
  },
  {
   "cell_type": "code",
   "execution_count": 31,
   "metadata": {},
   "outputs": [
    {
     "data": {
      "text/plain": [
       "numpy.ndarray"
      ]
     },
     "execution_count": 31,
     "metadata": {},
     "output_type": "execute_result"
    }
   ],
   "source": []
  },
  {
   "cell_type": "code",
   "execution_count": 35,
   "metadata": {},
   "outputs": [
    {
     "name": "stdout",
     "output_type": "stream",
     "text": [
      "Baseline Mean Absolute Error:  321680.13324377\n"
     ]
    }
   ],
   "source": [
    "print('Baseline Mean Absolute Error: ', mean_absolute_error(y_test,X_test))"
   ]
  },
  {
   "cell_type": "code",
   "execution_count": 33,
   "metadata": {},
   "outputs": [
    {
     "data": {
      "text/plain": [
       "321680.13324377"
      ]
     },
     "execution_count": 33,
     "metadata": {},
     "output_type": "execute_result"
    }
   ],
   "source": []
  },
  {
   "cell_type": "markdown",
   "metadata": {},
   "source": [
    "### 2. Linear Regression"
   ]
  },
  {
   "cell_type": "code",
   "execution_count": 36,
   "metadata": {},
   "outputs": [],
   "source": [
    "df = df_base0.copy()\n",
    "y = df.pop('actualkwh')\n",
    "X = df\n",
    "\n",
    "# Scale features\n",
    "scaler = StandardScaler()\n",
    "X_scaled = pd.DataFrame(scaler.fit_transform(X))"
   ]
  },
  {
   "cell_type": "code",
   "execution_count": 37,
   "metadata": {},
   "outputs": [],
   "source": [
    "X_train, X_test, y_train, y_test = train_test_split(X_scaled, y, train_size=.75, test_size=.25, random_state=42)"
   ]
  },
  {
   "cell_type": "code",
   "execution_count": 38,
   "metadata": {},
   "outputs": [
    {
     "name": "stdout",
     "output_type": "stream",
     "text": [
      "LR R-squared: 0.963\n"
     ]
    }
   ],
   "source": [
    "linreg = LinearRegression()\n",
    "linreg.fit(X_train, y_train)\n",
    "r2 = linreg.score(X_test, y_test)\n",
    "print('LR R-squared:',round(r2,3))"
   ]
  },
  {
   "cell_type": "code",
   "execution_count": 39,
   "metadata": {},
   "outputs": [
    {
     "name": "stdout",
     "output_type": "stream",
     "text": [
      "LR rmse:  91354.7\n"
     ]
    }
   ],
   "source": [
    "y_pred = linreg.predict(X_test)\n",
    "lr_mse = mean_squared_error(y_test,y_pred)\n",
    "print('LR rmse: ',round(lr_mse**.5,1))"
   ]
  },
  {
   "cell_type": "code",
   "execution_count": 45,
   "metadata": {},
   "outputs": [
    {
     "name": "stdout",
     "output_type": "stream",
     "text": [
      "LR Mean Absolute Error:  36041.0\n"
     ]
    }
   ],
   "source": [
    "print('LR Mean Absolute Error: ', round(mean_absolute_error(y_test,y_pred)))"
   ]
  },
  {
   "cell_type": "code",
   "execution_count": 40,
   "metadata": {},
   "outputs": [
    {
     "data": {
      "image/png": "[encoded data removed]",
      "text/plain": [
       "<Figure size 1080x720 with 1 Axes>"
      ]
     },
     "metadata": {},
     "output_type": "display_data"
    }
   ],
   "source": [
    "# Plot coefficients\n",
    "coefs = pd.DataFrame({\n",
    "    'feature': X.columns,\n",
    "    'coefficient': linreg.coef_,\n",
    "    'abs_coef': np.abs(linreg.coef_)\n",
    "})\n",
    "coefs.sort_values('abs_coef', inplace=True, ascending=False)\n",
    "\n",
    "plt.figure(figsize=(15,10))\n",
    "sns.barplot(x=coefs.coefficient.head(16), y=coefs.feature.head(16), orient='h')\n",
    "\n",
    "plt.axvline(x=0)\n",
    "plt.title(\"LR Coefficients\", fontsize='18')\n",
    "plt.ylabel('Feature', fontsize='14')\n",
    "plt.yticks(fontsize='14')\n",
    "plt.xticks(np.linspace(-50000,450000,11), rotation=50,fontsize='14')\n",
    "plt.xlabel('Coefficient Value', fontsize='14');"
   ]
  },
  {
   "cell_type": "code",
   "execution_count": null,
   "metadata": {},
   "outputs": [],
   "source": [
    "coefs"
   ]
  },
  {
   "cell_type": "code",
   "execution_count": null,
   "metadata": {},
   "outputs": [],
   "source": []
  },
  {
   "cell_type": "code",
   "execution_count": null,
   "metadata": {},
   "outputs": [],
   "source": [
    "# Pickle LR model"
   ]
  },
  {
   "cell_type": "code",
   "execution_count": null,
   "metadata": {},
   "outputs": [],
   "source": [
    "pickle.dump(linreg, open('linreg_model_final.pkl', 'wb'))"
   ]
  },
  {
   "cell_type": "markdown",
   "metadata": {},
   "source": [
    "### 3. Elastic Net"
   ]
  },
  {
   "cell_type": "code",
   "execution_count": 46,
   "metadata": {},
   "outputs": [
    {
     "name": "stdout",
     "output_type": "stream",
     "text": [
      "Fitting 3 folds for each of 50 candidates, totalling 150 fits\n"
     ]
    },
    {
     "name": "stderr",
     "output_type": "stream",
     "text": [
      "/home/matchdt/miniconda3/lib/python3.6/site-packages/sklearn/linear_model/coordinate_descent.py:491: ConvergenceWarning: Objective did not converge. You might want to increase the number of iterations. Fitting data with very small alpha may cause precision problems.\n",
      "  ConvergenceWarning)\n",
      "/home/matchdt/miniconda3/lib/python3.6/site-packages/sklearn/linear_model/coordinate_descent.py:491: ConvergenceWarning: Objective did not converge. You might want to increase the number of iterations. Fitting data with very small alpha may cause precision problems.\n",
      "  ConvergenceWarning)\n",
      "/home/matchdt/miniconda3/lib/python3.6/site-packages/sklearn/linear_model/coordinate_descent.py:491: ConvergenceWarning: Objective did not converge. You might want to increase the number of iterations. Fitting data with very small alpha may cause precision problems.\n",
      "  ConvergenceWarning)\n",
      "/home/matchdt/miniconda3/lib/python3.6/site-packages/sklearn/linear_model/coordinate_descent.py:491: ConvergenceWarning: Objective did not converge. You might want to increase the number of iterations. Fitting data with very small alpha may cause precision problems.\n",
      "  ConvergenceWarning)\n",
      "/home/matchdt/miniconda3/lib/python3.6/site-packages/sklearn/linear_model/coordinate_descent.py:491: ConvergenceWarning: Objective did not converge. You might want to increase the number of iterations. Fitting data with very small alpha may cause precision problems.\n",
      "  ConvergenceWarning)\n",
      "/home/matchdt/miniconda3/lib/python3.6/site-packages/sklearn/linear_model/coordinate_descent.py:491: ConvergenceWarning: Objective did not converge. You might want to increase the number of iterations. Fitting data with very small alpha may cause precision problems.\n",
      "  ConvergenceWarning)\n",
      "/home/matchdt/miniconda3/lib/python3.6/site-packages/sklearn/linear_model/coordinate_descent.py:491: ConvergenceWarning: Objective did not converge. You might want to increase the number of iterations. Fitting data with very small alpha may cause precision problems.\n",
      "  ConvergenceWarning)\n",
      "/home/matchdt/miniconda3/lib/python3.6/site-packages/sklearn/linear_model/coordinate_descent.py:491: ConvergenceWarning: Objective did not converge. You might want to increase the number of iterations. Fitting data with very small alpha may cause precision problems.\n",
      "  ConvergenceWarning)\n",
      "/home/matchdt/miniconda3/lib/python3.6/site-packages/sklearn/linear_model/coordinate_descent.py:491: ConvergenceWarning: Objective did not converge. You might want to increase the number of iterations. Fitting data with very small alpha may cause precision problems.\n",
      "  ConvergenceWarning)\n",
      "/home/matchdt/miniconda3/lib/python3.6/site-packages/sklearn/linear_model/coordinate_descent.py:491: ConvergenceWarning: Objective did not converge. You might want to increase the number of iterations. Fitting data with very small alpha may cause precision problems.\n",
      "  ConvergenceWarning)\n",
      "/home/matchdt/miniconda3/lib/python3.6/site-packages/sklearn/linear_model/coordinate_descent.py:491: ConvergenceWarning: Objective did not converge. You might want to increase the number of iterations. Fitting data with very small alpha may cause precision problems.\n",
      "  ConvergenceWarning)\n",
      "/home/matchdt/miniconda3/lib/python3.6/site-packages/sklearn/linear_model/coordinate_descent.py:491: ConvergenceWarning: Objective did not converge. You might want to increase the number of iterations. Fitting data with very small alpha may cause precision problems.\n",
      "  ConvergenceWarning)\n",
      "/home/matchdt/miniconda3/lib/python3.6/site-packages/sklearn/linear_model/coordinate_descent.py:491: ConvergenceWarning: Objective did not converge. You might want to increase the number of iterations. Fitting data with very small alpha may cause precision problems.\n",
      "  ConvergenceWarning)\n",
      "/home/matchdt/miniconda3/lib/python3.6/site-packages/sklearn/linear_model/coordinate_descent.py:491: ConvergenceWarning: Objective did not converge. You might want to increase the number of iterations. Fitting data with very small alpha may cause precision problems.\n",
      "  ConvergenceWarning)\n",
      "/home/matchdt/miniconda3/lib/python3.6/site-packages/sklearn/linear_model/coordinate_descent.py:491: ConvergenceWarning: Objective did not converge. You might want to increase the number of iterations. Fitting data with very small alpha may cause precision problems.\n",
      "  ConvergenceWarning)\n",
      "/home/matchdt/miniconda3/lib/python3.6/site-packages/sklearn/linear_model/coordinate_descent.py:491: ConvergenceWarning: Objective did not converge. You might want to increase the number of iterations. Fitting data with very small alpha may cause precision problems.\n",
      "  ConvergenceWarning)\n",
      "/home/matchdt/miniconda3/lib/python3.6/site-packages/sklearn/linear_model/coordinate_descent.py:491: ConvergenceWarning: Objective did not converge. You might want to increase the number of iterations. Fitting data with very small alpha may cause precision problems.\n",
      "  ConvergenceWarning)\n",
      "/home/matchdt/miniconda3/lib/python3.6/site-packages/sklearn/linear_model/coordinate_descent.py:491: ConvergenceWarning: Objective did not converge. You might want to increase the number of iterations. Fitting data with very small alpha may cause precision problems.\n",
      "  ConvergenceWarning)\n",
      "/home/matchdt/miniconda3/lib/python3.6/site-packages/sklearn/linear_model/coordinate_descent.py:491: ConvergenceWarning: Objective did not converge. You might want to increase the number of iterations. Fitting data with very small alpha may cause precision problems.\n",
      "  ConvergenceWarning)\n",
      "/home/matchdt/miniconda3/lib/python3.6/site-packages/sklearn/linear_model/coordinate_descent.py:491: ConvergenceWarning: Objective did not converge. You might want to increase the number of iterations. Fitting data with very small alpha may cause precision problems.\n",
      "  ConvergenceWarning)\n",
      "/home/matchdt/miniconda3/lib/python3.6/site-packages/sklearn/linear_model/coordinate_descent.py:491: ConvergenceWarning: Objective did not converge. You might want to increase the number of iterations. Fitting data with very small alpha may cause precision problems.\n",
      "  ConvergenceWarning)\n",
      "/home/matchdt/miniconda3/lib/python3.6/site-packages/sklearn/linear_model/coordinate_descent.py:491: ConvergenceWarning: Objective did not converge. You might want to increase the number of iterations. Fitting data with very small alpha may cause precision problems.\n",
      "  ConvergenceWarning)\n",
      "/home/matchdt/miniconda3/lib/python3.6/site-packages/sklearn/linear_model/coordinate_descent.py:491: ConvergenceWarning: Objective did not converge. You might want to increase the number of iterations. Fitting data with very small alpha may cause precision problems.\n",
      "  ConvergenceWarning)\n",
      "/home/matchdt/miniconda3/lib/python3.6/site-packages/sklearn/linear_model/coordinate_descent.py:491: ConvergenceWarning: Objective did not converge. You might want to increase the number of iterations. Fitting data with very small alpha may cause precision problems.\n",
      "  ConvergenceWarning)\n",
      "/home/matchdt/miniconda3/lib/python3.6/site-packages/sklearn/linear_model/coordinate_descent.py:491: ConvergenceWarning: Objective did not converge. You might want to increase the number of iterations. Fitting data with very small alpha may cause precision problems.\n",
      "  ConvergenceWarning)\n",
      "[Parallel(n_jobs=4)]: Done  42 tasks      | elapsed:    7.0s\n",
      "/home/matchdt/miniconda3/lib/python3.6/site-packages/sklearn/linear_model/coordinate_descent.py:491: ConvergenceWarning: Objective did not converge. You might want to increase the number of iterations. Fitting data with very small alpha may cause precision problems.\n",
      "  ConvergenceWarning)\n",
      "/home/matchdt/miniconda3/lib/python3.6/site-packages/sklearn/linear_model/coordinate_descent.py:491: ConvergenceWarning: Objective did not converge. You might want to increase the number of iterations. Fitting data with very small alpha may cause precision problems.\n",
      "  ConvergenceWarning)\n",
      "/home/matchdt/miniconda3/lib/python3.6/site-packages/sklearn/linear_model/coordinate_descent.py:491: ConvergenceWarning: Objective did not converge. You might want to increase the number of iterations. Fitting data with very small alpha may cause precision problems.\n",
      "  ConvergenceWarning)\n",
      "/home/matchdt/miniconda3/lib/python3.6/site-packages/sklearn/linear_model/coordinate_descent.py:491: ConvergenceWarning: Objective did not converge. You might want to increase the number of iterations. Fitting data with very small alpha may cause precision problems.\n",
      "  ConvergenceWarning)\n",
      "/home/matchdt/miniconda3/lib/python3.6/site-packages/sklearn/linear_model/coordinate_descent.py:491: ConvergenceWarning: Objective did not converge. You might want to increase the number of iterations. Fitting data with very small alpha may cause precision problems.\n",
      "  ConvergenceWarning)\n",
      "/home/matchdt/miniconda3/lib/python3.6/site-packages/sklearn/linear_model/coordinate_descent.py:491: ConvergenceWarning: Objective did not converge. You might want to increase the number of iterations. Fitting data with very small alpha may cause precision problems.\n",
      "  ConvergenceWarning)\n",
      "/home/matchdt/miniconda3/lib/python3.6/site-packages/sklearn/linear_model/coordinate_descent.py:491: ConvergenceWarning: Objective did not converge. You might want to increase the number of iterations. Fitting data with very small alpha may cause precision problems.\n",
      "  ConvergenceWarning)\n",
      "/home/matchdt/miniconda3/lib/python3.6/site-packages/sklearn/linear_model/coordinate_descent.py:491: ConvergenceWarning: Objective did not converge. You might want to increase the number of iterations. Fitting data with very small alpha may cause precision problems.\n",
      "  ConvergenceWarning)\n",
      "/home/matchdt/miniconda3/lib/python3.6/site-packages/sklearn/linear_model/coordinate_descent.py:491: ConvergenceWarning: Objective did not converge. You might want to increase the number of iterations. Fitting data with very small alpha may cause precision problems.\n",
      "  ConvergenceWarning)\n",
      "/home/matchdt/miniconda3/lib/python3.6/site-packages/sklearn/linear_model/coordinate_descent.py:491: ConvergenceWarning: Objective did not converge. You might want to increase the number of iterations. Fitting data with very small alpha may cause precision problems.\n",
      "  ConvergenceWarning)\n",
      "/home/matchdt/miniconda3/lib/python3.6/site-packages/sklearn/linear_model/coordinate_descent.py:491: ConvergenceWarning: Objective did not converge. You might want to increase the number of iterations. Fitting data with very small alpha may cause precision problems.\n",
      "  ConvergenceWarning)\n",
      "/home/matchdt/miniconda3/lib/python3.6/site-packages/sklearn/linear_model/coordinate_descent.py:491: ConvergenceWarning: Objective did not converge. You might want to increase the number of iterations. Fitting data with very small alpha may cause precision problems.\n",
      "  ConvergenceWarning)\n",
      "/home/matchdt/miniconda3/lib/python3.6/site-packages/sklearn/linear_model/coordinate_descent.py:491: ConvergenceWarning: Objective did not converge. You might want to increase the number of iterations. Fitting data with very small alpha may cause precision problems.\n",
      "  ConvergenceWarning)\n",
      "/home/matchdt/miniconda3/lib/python3.6/site-packages/sklearn/linear_model/coordinate_descent.py:491: ConvergenceWarning: Objective did not converge. You might want to increase the number of iterations. Fitting data with very small alpha may cause precision problems.\n",
      "  ConvergenceWarning)\n",
      "/home/matchdt/miniconda3/lib/python3.6/site-packages/sklearn/linear_model/coordinate_descent.py:491: ConvergenceWarning: Objective did not converge. You might want to increase the number of iterations. Fitting data with very small alpha may cause precision problems.\n",
      "  ConvergenceWarning)\n",
      "/home/matchdt/miniconda3/lib/python3.6/site-packages/sklearn/linear_model/coordinate_descent.py:491: ConvergenceWarning: Objective did not converge. You might want to increase the number of iterations. Fitting data with very small alpha may cause precision problems.\n",
      "  ConvergenceWarning)\n",
      "/home/matchdt/miniconda3/lib/python3.6/site-packages/sklearn/linear_model/coordinate_descent.py:491: ConvergenceWarning: Objective did not converge. You might want to increase the number of iterations. Fitting data with very small alpha may cause precision problems.\n",
      "  ConvergenceWarning)\n",
      "/home/matchdt/miniconda3/lib/python3.6/site-packages/sklearn/linear_model/coordinate_descent.py:491: ConvergenceWarning: Objective did not converge. You might want to increase the number of iterations. Fitting data with very small alpha may cause precision problems.\n",
      "  ConvergenceWarning)\n",
      "/home/matchdt/miniconda3/lib/python3.6/site-packages/sklearn/linear_model/coordinate_descent.py:491: ConvergenceWarning: Objective did not converge. You might want to increase the number of iterations. Fitting data with very small alpha may cause precision problems.\n",
      "  ConvergenceWarning)\n",
      "/home/matchdt/miniconda3/lib/python3.6/site-packages/sklearn/linear_model/coordinate_descent.py:491: ConvergenceWarning: Objective did not converge. You might want to increase the number of iterations. Fitting data with very small alpha may cause precision problems.\n",
      "  ConvergenceWarning)\n",
      "/home/matchdt/miniconda3/lib/python3.6/site-packages/sklearn/linear_model/coordinate_descent.py:491: ConvergenceWarning: Objective did not converge. You might want to increase the number of iterations. Fitting data with very small alpha may cause precision problems.\n",
      "  ConvergenceWarning)\n",
      "/home/matchdt/miniconda3/lib/python3.6/site-packages/sklearn/linear_model/coordinate_descent.py:491: ConvergenceWarning: Objective did not converge. You might want to increase the number of iterations. Fitting data with very small alpha may cause precision problems.\n",
      "  ConvergenceWarning)\n",
      "/home/matchdt/miniconda3/lib/python3.6/site-packages/sklearn/linear_model/coordinate_descent.py:491: ConvergenceWarning: Objective did not converge. You might want to increase the number of iterations. Fitting data with very small alpha may cause precision problems.\n",
      "  ConvergenceWarning)\n",
      "/home/matchdt/miniconda3/lib/python3.6/site-packages/sklearn/linear_model/coordinate_descent.py:491: ConvergenceWarning: Objective did not converge. You might want to increase the number of iterations. Fitting data with very small alpha may cause precision problems.\n",
      "  ConvergenceWarning)\n",
      "/home/matchdt/miniconda3/lib/python3.6/site-packages/sklearn/linear_model/coordinate_descent.py:491: ConvergenceWarning: Objective did not converge. You might want to increase the number of iterations. Fitting data with very small alpha may cause precision problems.\n",
      "  ConvergenceWarning)\n",
      "/home/matchdt/miniconda3/lib/python3.6/site-packages/sklearn/linear_model/coordinate_descent.py:491: ConvergenceWarning: Objective did not converge. You might want to increase the number of iterations. Fitting data with very small alpha may cause precision problems.\n",
      "  ConvergenceWarning)\n",
      "/home/matchdt/miniconda3/lib/python3.6/site-packages/sklearn/linear_model/coordinate_descent.py:491: ConvergenceWarning: Objective did not converge. You might want to increase the number of iterations. Fitting data with very small alpha may cause precision problems.\n",
      "  ConvergenceWarning)\n",
      "/home/matchdt/miniconda3/lib/python3.6/site-packages/sklearn/linear_model/coordinate_descent.py:491: ConvergenceWarning: Objective did not converge. You might want to increase the number of iterations. Fitting data with very small alpha may cause precision problems.\n",
      "  ConvergenceWarning)\n",
      "/home/matchdt/miniconda3/lib/python3.6/site-packages/sklearn/linear_model/coordinate_descent.py:491: ConvergenceWarning: Objective did not converge. You might want to increase the number of iterations. Fitting data with very small alpha may cause precision problems.\n",
      "  ConvergenceWarning)\n",
      "/home/matchdt/miniconda3/lib/python3.6/site-packages/sklearn/linear_model/coordinate_descent.py:491: ConvergenceWarning: Objective did not converge. You might want to increase the number of iterations. Fitting data with very small alpha may cause precision problems.\n",
      "  ConvergenceWarning)\n",
      "/home/matchdt/miniconda3/lib/python3.6/site-packages/sklearn/linear_model/coordinate_descent.py:491: ConvergenceWarning: Objective did not converge. You might want to increase the number of iterations. Fitting data with very small alpha may cause precision problems.\n",
      "  ConvergenceWarning)\n",
      "/home/matchdt/miniconda3/lib/python3.6/site-packages/sklearn/linear_model/coordinate_descent.py:491: ConvergenceWarning: Objective did not converge. You might want to increase the number of iterations. Fitting data with very small alpha may cause precision problems.\n",
      "  ConvergenceWarning)\n",
      "/home/matchdt/miniconda3/lib/python3.6/site-packages/sklearn/linear_model/coordinate_descent.py:491: ConvergenceWarning: Objective did not converge. You might want to increase the number of iterations. Fitting data with very small alpha may cause precision problems.\n",
      "  ConvergenceWarning)\n",
      "/home/matchdt/miniconda3/lib/python3.6/site-packages/sklearn/linear_model/coordinate_descent.py:491: ConvergenceWarning: Objective did not converge. You might want to increase the number of iterations. Fitting data with very small alpha may cause precision problems.\n",
      "  ConvergenceWarning)\n",
      "/home/matchdt/miniconda3/lib/python3.6/site-packages/sklearn/linear_model/coordinate_descent.py:491: ConvergenceWarning: Objective did not converge. You might want to increase the number of iterations. Fitting data with very small alpha may cause precision problems.\n",
      "  ConvergenceWarning)\n",
      "/home/matchdt/miniconda3/lib/python3.6/site-packages/sklearn/linear_model/coordinate_descent.py:491: ConvergenceWarning: Objective did not converge. You might want to increase the number of iterations. Fitting data with very small alpha may cause precision problems.\n",
      "  ConvergenceWarning)\n",
      "/home/matchdt/miniconda3/lib/python3.6/site-packages/sklearn/linear_model/coordinate_descent.py:491: ConvergenceWarning: Objective did not converge. You might want to increase the number of iterations. Fitting data with very small alpha may cause precision problems.\n",
      "  ConvergenceWarning)\n",
      "/home/matchdt/miniconda3/lib/python3.6/site-packages/sklearn/linear_model/coordinate_descent.py:491: ConvergenceWarning: Objective did not converge. You might want to increase the number of iterations. Fitting data with very small alpha may cause precision problems.\n",
      "  ConvergenceWarning)\n",
      "/home/matchdt/miniconda3/lib/python3.6/site-packages/sklearn/linear_model/coordinate_descent.py:491: ConvergenceWarning: Objective did not converge. You might want to increase the number of iterations. Fitting data with very small alpha may cause precision problems.\n",
      "  ConvergenceWarning)\n",
      "/home/matchdt/miniconda3/lib/python3.6/site-packages/sklearn/linear_model/coordinate_descent.py:491: ConvergenceWarning: Objective did not converge. You might want to increase the number of iterations. Fitting data with very small alpha may cause precision problems.\n",
      "  ConvergenceWarning)\n",
      "/home/matchdt/miniconda3/lib/python3.6/site-packages/sklearn/linear_model/coordinate_descent.py:491: ConvergenceWarning: Objective did not converge. You might want to increase the number of iterations. Fitting data with very small alpha may cause precision problems.\n",
      "  ConvergenceWarning)\n",
      "/home/matchdt/miniconda3/lib/python3.6/site-packages/sklearn/linear_model/coordinate_descent.py:491: ConvergenceWarning: Objective did not converge. You might want to increase the number of iterations. Fitting data with very small alpha may cause precision problems.\n",
      "  ConvergenceWarning)\n",
      "/home/matchdt/miniconda3/lib/python3.6/site-packages/sklearn/linear_model/coordinate_descent.py:491: ConvergenceWarning: Objective did not converge. You might want to increase the number of iterations. Fitting data with very small alpha may cause precision problems.\n",
      "  ConvergenceWarning)\n",
      "/home/matchdt/miniconda3/lib/python3.6/site-packages/sklearn/linear_model/coordinate_descent.py:491: ConvergenceWarning: Objective did not converge. You might want to increase the number of iterations. Fitting data with very small alpha may cause precision problems.\n",
      "  ConvergenceWarning)\n",
      "/home/matchdt/miniconda3/lib/python3.6/site-packages/sklearn/linear_model/coordinate_descent.py:491: ConvergenceWarning: Objective did not converge. You might want to increase the number of iterations. Fitting data with very small alpha may cause precision problems.\n",
      "  ConvergenceWarning)\n",
      "[Parallel(n_jobs=4)]: Done 150 out of 150 | elapsed:   18.7s finished\n"
     ]
    },
    {
     "data": {
      "text/plain": [
       "GridSearchCV(cv=3, error_score='raise',\n",
       "       estimator=ElasticNet(alpha=1.0, copy_X=True, fit_intercept=True, l1_ratio=0.5,\n",
       "      max_iter=1000, normalize=False, positive=False, precompute=False,\n",
       "      random_state=None, selection='cyclic', tol=0.0001, warm_start=False),\n",
       "       fit_params=None, iid=True, n_jobs=4,\n",
       "       param_grid={'alpha': array([0.001, 0.012, 0.023, 0.034, 0.045, 0.056, 0.067, 0.078, 0.089,\n",
       "       0.1  ]), 'l1_ratio': array([0.  , 0.25, 0.5 , 0.75, 1.  ])},\n",
       "       pre_dispatch='2*n_jobs', refit=True, return_train_score='warn',\n",
       "       scoring=None, verbose=1)"
      ]
     },
     "execution_count": 46,
     "metadata": {},
     "output_type": "execute_result"
    }
   ],
   "source": [
    "# Can use same train/test split data\n",
    "# Grid Search\n",
    "params = {\n",
    "    'alpha': np.linspace(.001,.1,10),\n",
    "    'l1_ratio': np.linspace(0,1,5)\n",
    "}\n",
    "en = ElasticNet()\n",
    "gs_en = GridSearchCV(en, params, cv=3, verbose=1, n_jobs = 4)\n",
    "\n",
    "gs_en.fit(X_train, y_train)"
   ]
  },
  {
   "cell_type": "code",
   "execution_count": 47,
   "metadata": {},
   "outputs": [
    {
     "name": "stdout",
     "output_type": "stream",
     "text": [
      "gs_en_bestr2: 0.9570872102670378\n",
      "gs_en_params: {'alpha': 0.012, 'l1_ratio': 0.75}\n",
      "gs_en_r2_test: 0.9633752933164423\n"
     ]
    }
   ],
   "source": [
    "gs_en_bestr2 = gs_en.best_score_\n",
    "gs_en_params = gs_en.best_params_\n",
    "gs_en_r2_test = gs_en.score(X_test, y_test)\n",
    "print('gs_en_bestr2:',gs_en_bestr2)\n",
    "print('gs_en_params:',gs_en_params)\n",
    "print('gs_en_r2_test:',gs_en_r2_test)"
   ]
  },
  {
   "cell_type": "code",
   "execution_count": 48,
   "metadata": {},
   "outputs": [
    {
     "data": {
      "text/plain": [
       "ElasticNet(alpha=0.012, copy_X=True, fit_intercept=True, l1_ratio=0.75,\n",
       "      max_iter=1000, normalize=False, positive=False, precompute=False,\n",
       "      random_state=None, selection='cyclic', tol=0.0001, warm_start=False)"
      ]
     },
     "execution_count": 48,
     "metadata": {},
     "output_type": "execute_result"
    }
   ],
   "source": [
    "en = ElasticNet(alpha= .012, l1_ratio=.75)\n",
    "en.fit(X_train, y_train)"
   ]
  },
  {
   "cell_type": "code",
   "execution_count": 50,
   "metadata": {},
   "outputs": [
    {
     "name": "stdout",
     "output_type": "stream",
     "text": [
      "EN R-squared: 0.963\n",
      "EN rmse:  91408.1\n",
      "EN Mean Absolute Error:  36065.0\n"
     ]
    }
   ],
   "source": [
    "en_r2 = en.score(X_test, y_test)\n",
    "print('EN R-squared:',round(en_r2,3))\n",
    "y_pred = en.predict(X_test)\n",
    "en_mse = mean_squared_error(y_test,y_pred)\n",
    "print('EN rmse: ',round(en_mse**.5,1))\n",
    "print('EN Mean Absolute Error: ', round(mean_absolute_error(y_test,y_pred)))"
   ]
  },
  {
   "cell_type": "code",
   "execution_count": null,
   "metadata": {},
   "outputs": [],
   "source": [
    "coefs_en = pd.DataFrame({\n",
    "    'feature': X.columns,\n",
    "    'coefficient': en.coef_,\n",
    "    'abs_coef': np.abs(en.coef_)\n",
    "})\n",
    "coefs_en.sort_values('abs_coef', inplace=True, ascending=False)\n",
    "\n",
    "plt.figure(figsize=(15,10))\n",
    "sns.barplot(x=coefs.coefficient.head(16), y=coefs.feature.head(16), orient='h')\n",
    "\n",
    "plt.axvline(x=0)\n",
    "plt.title(\"Elastic Net Coefficients\", fontsize='18')\n",
    "plt.ylabel('Feature', fontsize='14')\n",
    "plt.yticks(fontsize='14')\n",
    "plt.xticks(np.linspace(-50000,450000,11), rotation=50,fontsize='14')\n",
    "plt.xlabel('Coefficient Value', fontsize='14');"
   ]
  },
  {
   "cell_type": "code",
   "execution_count": null,
   "metadata": {},
   "outputs": [],
   "source": [
    "coefs_en"
   ]
  },
  {
   "cell_type": "code",
   "execution_count": 52,
   "metadata": {},
   "outputs": [],
   "source": [
    "pickle.dump(en, open('../pickled models/en_model_final.pkl', 'wb'))"
   ]
  },
  {
   "cell_type": "markdown",
   "metadata": {},
   "source": [
    "### 4. Random Forest"
   ]
  },
  {
   "cell_type": "code",
   "execution_count": 53,
   "metadata": {},
   "outputs": [],
   "source": [
    "# No scaling necessary\n",
    "df_rf = df_base0.copy()\n",
    "y = df_rf.pop('actualkwh')\n",
    "X = df_rf"
   ]
  },
  {
   "cell_type": "code",
   "execution_count": 54,
   "metadata": {},
   "outputs": [],
   "source": [
    "X_train, X_test, y_train, y_test = train_test_split(X, y, train_size=.75, test_size=.25, random_state=42)"
   ]
  },
  {
   "cell_type": "code",
   "execution_count": 55,
   "metadata": {},
   "outputs": [],
   "source": [
    "# Creating gridsearch to find optimal parameters.\n",
    "params = {\n",
    "    'max_depth': np.linspace(50,150,6),\n",
    "    'n_estimators': np.linspace(100,400,4, dtype=int)\n",
    "}\n",
    "\n",
    "rf = RandomForestRegressor()\n",
    "gs_rf = GridSearchCV(rf, params, cv=3, verbose=1,n_jobs=1)"
   ]
  },
  {
   "cell_type": "code",
   "execution_count": 56,
   "metadata": {},
   "outputs": [
    {
     "name": "stdout",
     "output_type": "stream",
     "text": [
      "Fitting 3 folds for each of 24 candidates, totalling 72 fits\n"
     ]
    },
    {
     "name": "stderr",
     "output_type": "stream",
     "text": [
      "[Parallel(n_jobs=1)]: Done  72 out of  72 | elapsed: 12.3min finished\n"
     ]
    },
    {
     "data": {
      "text/plain": [
       "GridSearchCV(cv=3, error_score='raise',\n",
       "       estimator=RandomForestRegressor(bootstrap=True, criterion='mse', max_depth=None,\n",
       "           max_features='auto', max_leaf_nodes=None,\n",
       "           min_impurity_decrease=0.0, min_impurity_split=None,\n",
       "           min_samples_leaf=1, min_samples_split=2,\n",
       "           min_weight_fraction_leaf=0.0, n_estimators=10, n_jobs=1,\n",
       "           oob_score=False, random_state=None, verbose=0, warm_start=False),\n",
       "       fit_params=None, iid=True, n_jobs=1,\n",
       "       param_grid={'max_depth': array([ 50.,  70.,  90., 110., 130., 150.]), 'n_estimators': array([100, 200, 300, 400])},\n",
       "       pre_dispatch='2*n_jobs', refit=True, return_train_score='warn',\n",
       "       scoring=None, verbose=1)"
      ]
     },
     "execution_count": 56,
     "metadata": {},
     "output_type": "execute_result"
    }
   ],
   "source": [
    "gs_rf.fit(X_train, y_train)"
   ]
  },
  {
   "cell_type": "code",
   "execution_count": 57,
   "metadata": {},
   "outputs": [
    {
     "name": "stdout",
     "output_type": "stream",
     "text": [
      "gs_rf_bestr2: 0.955544658131921\n",
      "gs_rf_params: {'max_depth': 150.0, 'n_estimators': 100}\n",
      "gs_rf_r2_test: 0.9743987958322171\n"
     ]
    }
   ],
   "source": [
    "gs_rf_bestr2 = gs_rf.best_score_\n",
    "gs_rf_params = gs_rf.best_params_\n",
    "gs_rf_r2_test = gs_rf.score(X_test, y_test)\n",
    "print('gs_rf_bestr2:',gs_rf_bestr2)\n",
    "print('gs_rf_params:',gs_rf_params)\n",
    "print('gs_rf_r2_test:',gs_rf_r2_test)"
   ]
  },
  {
   "cell_type": "code",
   "execution_count": 58,
   "metadata": {},
   "outputs": [
    {
     "data": {
      "text/plain": [
       "RandomForestRegressor(bootstrap=True, criterion='mse', max_depth=70,\n",
       "           max_features='auto', max_leaf_nodes=None,\n",
       "           min_impurity_decrease=0.0, min_impurity_split=None,\n",
       "           min_samples_leaf=1, min_samples_split=2,\n",
       "           min_weight_fraction_leaf=0.0, n_estimators=100, n_jobs=4,\n",
       "           oob_score=False, random_state=None, verbose=0, warm_start=False)"
      ]
     },
     "execution_count": 58,
     "metadata": {},
     "output_type": "execute_result"
    }
   ],
   "source": [
    "rf = RandomForestRegressor(max_depth=70, n_estimators=100,n_jobs=4)\n",
    "rf.fit(X_train, y_train)"
   ]
  },
  {
   "cell_type": "code",
   "execution_count": 59,
   "metadata": {},
   "outputs": [
    {
     "name": "stdout",
     "output_type": "stream",
     "text": [
      "RF R-squared: 0.975\n",
      "RF rmse:  75555.5\n",
      "RF Mean Absolute Error:  26315.0\n"
     ]
    }
   ],
   "source": [
    "rf_r2 = rf.score(X_test, y_test)\n",
    "print('RF R-squared:',round(rf_r2,3))\n",
    "y_pred = rf.predict(X_test)\n",
    "rf_mse = mean_squared_error(y_test,y_pred)\n",
    "print('RF rmse: ',round(rf_mse**.5,1))\n",
    "print('RF Mean Absolute Error: ', round(mean_absolute_error(y_test,y_pred)))"
   ]
  },
  {
   "cell_type": "code",
   "execution_count": null,
   "metadata": {},
   "outputs": [],
   "source": []
  },
  {
   "cell_type": "code",
   "execution_count": null,
   "metadata": {},
   "outputs": [],
   "source": [
    "feature_imports = pd.DataFrame({\n",
    "    'feature': X.columns,\n",
    "    'importance': rf.feature_importances_\n",
    "})\n",
    "\n",
    "feature_imports.sort_values('importance', inplace=True, ascending=False)\n",
    "plt.figure(figsize=(15,10))\n",
    "sns.barplot(x=feature_imports.importance.head(16), y=feature_imports.feature.head(16), orient='h')\n",
    "sns.set_style('white')\n",
    "sns.despine(offset=10, trim=False)\n",
    "plt.title('Random Forest Feature Importance', fontsize='18')\n",
    "plt.xlabel('Importance Value',fontsize='14')\n",
    "plt.ylabel('Feature',fontsize='14');"
   ]
  },
  {
   "cell_type": "code",
   "execution_count": null,
   "metadata": {},
   "outputs": [],
   "source": [
    "feature_imports = pd.DataFrame({\n",
    "    'feature': X.columns,\n",
    "    'importance': rf.feature_importances_\n",
    "})\n",
    "\n",
    "feature_imports.sort_values('importance', inplace=True, ascending=False)\n",
    "plt.figure(figsize=(15,10))\n",
    "sns.barplot(x=feature_imports.importance.tail(15), y=feature_imports.feature.tail(15), orient='h')\n",
    "sns.set_style('white')\n",
    "sns.despine(offset=10, trim=False)\n",
    "plt.title('Random Forest Feature Importance', fontsize='18')\n",
    "plt.xlabel('Importance Value',fontsize='14')\n",
    "plt.ylabel('Feature',fontsize='14');"
   ]
  },
  {
   "cell_type": "code",
   "execution_count": null,
   "metadata": {},
   "outputs": [],
   "source": []
  },
  {
   "cell_type": "code",
   "execution_count": 60,
   "metadata": {},
   "outputs": [],
   "source": [
    "pickle.dump(en, open('../pickled models/rf_model_final.pkl', 'wb'))"
   ]
  },
  {
   "cell_type": "code",
   "execution_count": null,
   "metadata": {},
   "outputs": [],
   "source": []
  }
 ],
 "metadata": {
  "kernelspec": {
   "display_name": "Python 3",
   "language": "python",
   "name": "python3"
  },
  "language_info": {
   "codemirror_mode": {
    "name": "ipython",
    "version": 3
   },
   "file_extension": ".py",
   "mimetype": "text/x-python",
   "name": "python",
   "nbconvert_exporter": "python",
   "pygments_lexer": "ipython3",
   "version": "3.6.5"
  }
 },
 "nbformat": 4,
 "nbformat_minor": 2
}
