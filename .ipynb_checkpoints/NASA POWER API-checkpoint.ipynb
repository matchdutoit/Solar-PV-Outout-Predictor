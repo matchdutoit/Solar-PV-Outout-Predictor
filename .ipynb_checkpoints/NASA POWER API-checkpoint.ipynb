{
 "cells": [
  {
   "cell_type": "code",
   "execution_count": 1,
   "metadata": {},
   "outputs": [],
   "source": [
    "import requests\n",
    "import pandas as pd\n"
   ]
  },
  {
   "cell_type": "code",
   "execution_count": 39,
   "metadata": {},
   "outputs": [],
   "source": [
    "def get_nasa(year, latlondf):\n",
    "    json_list = []\n",
    "    for i in latlondf.index:\n",
    "        lat = latlondf.at[i,'lat']\n",
    "        lon = latlondf.at[i,'lon']\n",
    "        \n",
    "        \"\"\"\n",
    "        Some Useful Parameters:\n",
    "        - ALLSKY_SFC_SW_DWN: All Sky Insolation Incident on a Horizontal Surface (kwh/m2/day)\n",
    "        - T2M: temperature at 2 meters from gound (C)\n",
    "        - PRECTOT: precipitation (mm/day)\n",
    "        - PS: Surface Pressure (kPa)\n",
    "        - WS2M: Wind Speed at 2 Meters (m/s)\n",
    "        - KT: Insolation Clearness Index (dimensionless)\n",
    "        - DNR: Direct Normal Radiation (kWh/m^2/day)\n",
    "        - DIFF: Diffuse Radiation On A Horizontal Surface (kWh/m^2/day)\n",
    "\n",
    "        for more documentation: https://power.larc.nasa.gov/docs/v1/\n",
    "        \"\"\"\n",
    "\n",
    "        parameters = 'ALLSKY_SFC_SW_DWN', 'KT', 'T2M', 'PRECTOT', 'PS', 'WS2M'\n",
    "        parameters = ','.join(parameters)\n",
    "\n",
    "        api_kwds = \\\n",
    "            {\n",
    "                'user': 'anonymous',\n",
    "                'parameters': parameters,\n",
    "                'start_date': int(year),\n",
    "                'end_date': int(year),\n",
    "                'temp_average': 'INTERANNUAL',\n",
    "                'lat': lat,\n",
    "                'lon': lon\n",
    "            }\n",
    "\n",
    "        base = ('https://power.larc.nasa.gov/cgi-bin/v1/DataAccess.py?request=execute&identifier=SinglePoint&'\n",
    "                'parameters={parameters}&'\n",
    "                'startDate={start_date}&'\n",
    "                'endDate={end_date}&'\n",
    "                'userCommunity=SSE&'\n",
    "                'tempAverage={temp_average}&'\n",
    "                'outputList=JSON,ASCII&'\n",
    "                'lat={lat}&'\n",
    "                'lon={lon}&'\n",
    "                'user={user}')\n",
    "\n",
    "        url = base.format(**api_kwds)\n",
    "        response = requests.get(url)\n",
    "        json = response.json()\n",
    "        json_list.append(json)\n",
    "        \n",
    "    return json_list\n",
    "\n",
    "        "
   ]
  },
  {
   "cell_type": "code",
   "execution_count": null,
   "metadata": {},
   "outputs": [],
   "source": []
  },
  {
   "cell_type": "code",
   "execution_count": 21,
   "metadata": {},
   "outputs": [],
   "source": [
    "data = json['features'][0]['properties']['parameter']\n",
    "df = pd.DataFrame(data)\n",
    "df_annual = df.iloc[-1,:]"
   ]
  },
  {
   "cell_type": "code",
   "execution_count": 22,
   "metadata": {},
   "outputs": [
    {
     "data": {
      "text/plain": [
       "ALLSKY_SFC_SW_DWN     4.91\n",
       "KT                    0.58\n",
       "PRECTOT               1.17\n",
       "PS                   86.38\n",
       "T2M                  14.18\n",
       "WS2M                  2.18\n",
       "Name: 201613, dtype: float64"
      ]
     },
     "execution_count": 22,
     "metadata": {},
     "output_type": "execute_result"
    }
   ],
   "source": [
    "df_annual"
   ]
  },
  {
   "cell_type": "code",
   "execution_count": 28,
   "metadata": {},
   "outputs": [],
   "source": [
    "c = {'lat': [36, 36, 37, 37], 'lon': [45, 46, 47, 48]}\n",
    "coords = pd.DataFrame(c)"
   ]
  },
  {
   "cell_type": "code",
   "execution_count": 35,
   "metadata": {},
   "outputs": [
    {
     "data": {
      "text/html": [
       "<div>\n",
       "<style scoped>\n",
       "    .dataframe tbody tr th:only-of-type {\n",
       "        vertical-align: middle;\n",
       "    }\n",
       "\n",
       "    .dataframe tbody tr th {\n",
       "        vertical-align: top;\n",
       "    }\n",
       "\n",
       "    .dataframe thead th {\n",
       "        text-align: right;\n",
       "    }\n",
       "</style>\n",
       "<table border=\"1\" class=\"dataframe\">\n",
       "  <thead>\n",
       "    <tr style=\"text-align: right;\">\n",
       "      <th></th>\n",
       "      <th>lat</th>\n",
       "      <th>lon</th>\n",
       "    </tr>\n",
       "  </thead>\n",
       "  <tbody>\n",
       "    <tr>\n",
       "      <th>0</th>\n",
       "      <td>36</td>\n",
       "      <td>45</td>\n",
       "    </tr>\n",
       "    <tr>\n",
       "      <th>1</th>\n",
       "      <td>36</td>\n",
       "      <td>46</td>\n",
       "    </tr>\n",
       "    <tr>\n",
       "      <th>2</th>\n",
       "      <td>37</td>\n",
       "      <td>47</td>\n",
       "    </tr>\n",
       "    <tr>\n",
       "      <th>3</th>\n",
       "      <td>37</td>\n",
       "      <td>48</td>\n",
       "    </tr>\n",
       "  </tbody>\n",
       "</table>\n",
       "</div>"
      ],
      "text/plain": [
       "   lat  lon\n",
       "0   36   45\n",
       "1   36   46\n",
       "2   37   47\n",
       "3   37   48"
      ]
     },
     "execution_count": 35,
     "metadata": {},
     "output_type": "execute_result"
    }
   ],
   "source": [
    "coords"
   ]
  },
  {
   "cell_type": "code",
   "execution_count": 41,
   "metadata": {},
   "outputs": [],
   "source": [
    "jsons = get_nasa(2016, coords)"
   ]
  },
  {
   "cell_type": "markdown",
   "metadata": {},
   "source": []
  }
 ],
 "metadata": {
  "kernelspec": {
   "display_name": "Python 3",
   "language": "python",
   "name": "python3"
  },
  "language_info": {
   "codemirror_mode": {
    "name": "ipython",
    "version": 3
   },
   "file_extension": ".py",
   "mimetype": "text/x-python",
   "name": "python",
   "nbconvert_exporter": "python",
   "pygments_lexer": "ipython3",
   "version": "3.6.5"
  }
 },
 "nbformat": 4,
 "nbformat_minor": 2
}
